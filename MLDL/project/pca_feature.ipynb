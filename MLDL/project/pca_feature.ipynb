{
  "cells": [
    {
      "cell_type": "code",
      "execution_count": 1,
      "metadata": {
        "colab": {
          "base_uri": "https://localhost:8080/"
        },
        "id": "Q2pT7yy3vo4A",
        "outputId": "d512eeea-c437-4be6-d610-a8df0f0dc3ec"
      },
      "outputs": [
        {
          "output_type": "stream",
          "name": "stdout",
          "text": [
            "Mounted at /content/drive\n"
          ]
        }
      ],
      "source": [
        "from google.colab import drive\n",
        "drive.mount('/content/drive')"
      ]
    },
    {
      "cell_type": "code",
      "execution_count": 4,
      "metadata": {
        "id": "MljYMQ1Kvm-W"
      },
      "outputs": [],
      "source": [
        "import os\n",
        "import random\n",
        "import numpy as np\n",
        "import pandas as pd\n",
        "import matplotlib.pyplot as plt\n",
        "import seaborn as sns\n",
        "import warnings\n",
        "warnings.filterwarnings(action='ignore')\n",
        "\n",
        "from sklearn.preprocessing import StandardScaler\n",
        "from sklearn import metrics"
      ]
    },
    {
      "cell_type": "code",
      "execution_count": 5,
      "metadata": {
        "id": "fXeldljCBRmc"
      },
      "outputs": [],
      "source": [
        "SEED = 42\n",
        "def seed_everything(seed):\n",
        "    random.seed(seed)\n",
        "    np.random.seed(seed)\n",
        "\n",
        "seed_everything(SEED) # Seed 고정"
      ]
    },
    {
      "cell_type": "markdown",
      "metadata": {
        "id": "eC2Xkw-7wEcx"
      },
      "source": [
        "# 데이터 불러오기"
      ]
    },
    {
      "cell_type": "code",
      "execution_count": 6,
      "metadata": {
        "id": "zTIkxfO1wAlZ"
      },
      "outputs": [],
      "source": [
        "os.chdir('/content/drive/Othercomputers/내 MacBook Air/MLDL/project/open')"
      ]
    },
    {
      "cell_type": "code",
      "execution_count": 7,
      "metadata": {
        "id": "h-p4QAPmwCEL"
      },
      "outputs": [],
      "source": [
        "train = pd.read_csv('./train.csv')\n",
        "val = pd.read_csv('./val.csv')\n",
        "test = pd.read_csv('./test.csv')\n",
        "sample_submission = pd.read_csv('./sample_submission.csv')"
      ]
    },
    {
      "cell_type": "code",
      "execution_count": 8,
      "metadata": {
        "id": "PXJBXDcTwHCr"
      },
      "outputs": [],
      "source": [
        "train_total = train.iloc[:, 1:]\n",
        "val_total = val.iloc[:, 1:]\n",
        "test_total = test.iloc[:, 1:]"
      ]
    },
    {
      "cell_type": "code",
      "execution_count": 9,
      "metadata": {
        "id": "zWFsdx8N2Znk"
      },
      "outputs": [],
      "source": [
        "val_total_x = val_total.drop(['Class'], axis=1)\n",
        "val_total_y = val_total.loc[:, 'Class']"
      ]
    },
    {
      "cell_type": "code",
      "execution_count": 10,
      "metadata": {
        "id": "C1oYbBekwJFJ"
      },
      "outputs": [],
      "source": [
        "from sklearn.preprocessing import StandardScaler  # 표준화 \n",
        "std = StandardScaler()\n",
        "\n",
        "train_total_std = std.fit_transform(train_total) \n",
        "val_total_x_std = std.fit_transform(val_total_x) \n",
        "test_total_std = std.fit_transform(test_total) "
      ]
    },
    {
      "cell_type": "code",
      "source": [
        "from sklearn.decomposition import PCA\n",
        "def pca_df(train, data):\n",
        "  pca = PCA(n_components=25) # 주성분 개수\n",
        "  printcipalComponents = pca.fit(train)\n",
        "  pca_data = printcipalComponents.transform(data)\n",
        "  pca_df = pd.DataFrame(pca_data)\n",
        "  return pca_df\n",
        "\n",
        "pca_train = pca_df(train_total_std, train_total_std)\n",
        "pca_val_x = pca_df(train_total_std, val_total_x_std)\n",
        "pca_test = pca_df(train_total_std, test_total_std)"
      ],
      "metadata": {
        "id": "gDb-L3Dqnp4n"
      },
      "execution_count": 17,
      "outputs": []
    },
    {
      "cell_type": "markdown",
      "metadata": {
        "id": "crwea9qow7r7"
      },
      "source": [
        "## EllipticEnvelope"
      ]
    },
    {
      "cell_type": "markdown",
      "metadata": {
        "id": "fB-Gqe6aysYc"
      },
      "source": [
        "#### 라벨링\n",
        "* +1 이면 boundary 안에 들어온 값으로 정상 데이터\n",
        "* -1 이면 outlier\n",
        "\n",
        "정상데이터: 0 , 이상치: 1로 라벨링 수정"
      ]
    },
    {
      "cell_type": "code",
      "execution_count": 18,
      "metadata": {
        "id": "7M_vOHpeyEVK"
      },
      "outputs": [],
      "source": [
        "def get_pred_label(model_pred):\n",
        "  model_pred = np.where(model_pred==1, 0, model_pred)\n",
        "  model_pred = np.where(model_pred==-1, 1, model_pred)\n",
        "  return model_pred"
      ]
    },
    {
      "cell_type": "markdown",
      "metadata": {
        "id": "1LPUo4rKBuq3"
      },
      "source": [
        "### EE Model Fit"
      ]
    },
    {
      "cell_type": "code",
      "execution_count": 19,
      "metadata": {
        "colab": {
          "base_uri": "https://localhost:8080/",
          "height": 75
        },
        "id": "Zz30Sl72w69W",
        "outputId": "a0024b33-4e0c-4bf0-d8ea-ade3660899d3"
      },
      "outputs": [
        {
          "output_type": "execute_result",
          "data": {
            "text/plain": [
              "EllipticEnvelope(contamination=0.00112, random_state=42, support_fraction=0.994)"
            ],
            "text/html": [
              "<style>#sk-container-id-2 {color: black;background-color: white;}#sk-container-id-2 pre{padding: 0;}#sk-container-id-2 div.sk-toggleable {background-color: white;}#sk-container-id-2 label.sk-toggleable__label {cursor: pointer;display: block;width: 100%;margin-bottom: 0;padding: 0.3em;box-sizing: border-box;text-align: center;}#sk-container-id-2 label.sk-toggleable__label-arrow:before {content: \"▸\";float: left;margin-right: 0.25em;color: #696969;}#sk-container-id-2 label.sk-toggleable__label-arrow:hover:before {color: black;}#sk-container-id-2 div.sk-estimator:hover label.sk-toggleable__label-arrow:before {color: black;}#sk-container-id-2 div.sk-toggleable__content {max-height: 0;max-width: 0;overflow: hidden;text-align: left;background-color: #f0f8ff;}#sk-container-id-2 div.sk-toggleable__content pre {margin: 0.2em;color: black;border-radius: 0.25em;background-color: #f0f8ff;}#sk-container-id-2 input.sk-toggleable__control:checked~div.sk-toggleable__content {max-height: 200px;max-width: 100%;overflow: auto;}#sk-container-id-2 input.sk-toggleable__control:checked~label.sk-toggleable__label-arrow:before {content: \"▾\";}#sk-container-id-2 div.sk-estimator input.sk-toggleable__control:checked~label.sk-toggleable__label {background-color: #d4ebff;}#sk-container-id-2 div.sk-label input.sk-toggleable__control:checked~label.sk-toggleable__label {background-color: #d4ebff;}#sk-container-id-2 input.sk-hidden--visually {border: 0;clip: rect(1px 1px 1px 1px);clip: rect(1px, 1px, 1px, 1px);height: 1px;margin: -1px;overflow: hidden;padding: 0;position: absolute;width: 1px;}#sk-container-id-2 div.sk-estimator {font-family: monospace;background-color: #f0f8ff;border: 1px dotted black;border-radius: 0.25em;box-sizing: border-box;margin-bottom: 0.5em;}#sk-container-id-2 div.sk-estimator:hover {background-color: #d4ebff;}#sk-container-id-2 div.sk-parallel-item::after {content: \"\";width: 100%;border-bottom: 1px solid gray;flex-grow: 1;}#sk-container-id-2 div.sk-label:hover label.sk-toggleable__label {background-color: #d4ebff;}#sk-container-id-2 div.sk-serial::before {content: \"\";position: absolute;border-left: 1px solid gray;box-sizing: border-box;top: 0;bottom: 0;left: 50%;z-index: 0;}#sk-container-id-2 div.sk-serial {display: flex;flex-direction: column;align-items: center;background-color: white;padding-right: 0.2em;padding-left: 0.2em;position: relative;}#sk-container-id-2 div.sk-item {position: relative;z-index: 1;}#sk-container-id-2 div.sk-parallel {display: flex;align-items: stretch;justify-content: center;background-color: white;position: relative;}#sk-container-id-2 div.sk-item::before, #sk-container-id-2 div.sk-parallel-item::before {content: \"\";position: absolute;border-left: 1px solid gray;box-sizing: border-box;top: 0;bottom: 0;left: 50%;z-index: -1;}#sk-container-id-2 div.sk-parallel-item {display: flex;flex-direction: column;z-index: 1;position: relative;background-color: white;}#sk-container-id-2 div.sk-parallel-item:first-child::after {align-self: flex-end;width: 50%;}#sk-container-id-2 div.sk-parallel-item:last-child::after {align-self: flex-start;width: 50%;}#sk-container-id-2 div.sk-parallel-item:only-child::after {width: 0;}#sk-container-id-2 div.sk-dashed-wrapped {border: 1px dashed gray;margin: 0 0.4em 0.5em 0.4em;box-sizing: border-box;padding-bottom: 0.4em;background-color: white;}#sk-container-id-2 div.sk-label label {font-family: monospace;font-weight: bold;display: inline-block;line-height: 1.2em;}#sk-container-id-2 div.sk-label-container {text-align: center;}#sk-container-id-2 div.sk-container {/* jupyter's `normalize.less` sets `[hidden] { display: none; }` but bootstrap.min.css set `[hidden] { display: none !important; }` so we also need the `!important` here to be able to override the default hidden behavior on the sphinx rendered scikit-learn.org. See: https://github.com/scikit-learn/scikit-learn/issues/21755 */display: inline-block !important;position: relative;}#sk-container-id-2 div.sk-text-repr-fallback {display: none;}</style><div id=\"sk-container-id-2\" class=\"sk-top-container\"><div class=\"sk-text-repr-fallback\"><pre>EllipticEnvelope(contamination=0.00112, random_state=42, support_fraction=0.994)</pre><b>In a Jupyter environment, please rerun this cell to show the HTML representation or trust the notebook. <br />On GitHub, the HTML representation is unable to render, please try loading this page with nbviewer.org.</b></div><div class=\"sk-container\" hidden><div class=\"sk-item\"><div class=\"sk-estimator sk-toggleable\"><input class=\"sk-toggleable__control sk-hidden--visually\" id=\"sk-estimator-id-2\" type=\"checkbox\" checked><label for=\"sk-estimator-id-2\" class=\"sk-toggleable__label sk-toggleable__label-arrow\">EllipticEnvelope</label><div class=\"sk-toggleable__content\"><pre>EllipticEnvelope(contamination=0.00112, random_state=42, support_fraction=0.994)</pre></div></div></div></div></div>"
            ]
          },
          "metadata": {},
          "execution_count": 19
        }
      ],
      "source": [
        "from sklearn.covariance import EllipticEnvelope\n",
        "from sklearn.metrics import precision_score, recall_score, f1_score, accuracy_score\n",
        "from sklearn.metrics import classification_report\n",
        "EE_model = EllipticEnvelope(support_fraction = 0.994, contamination = 0.00112, random_state = 42)\n",
        "\n",
        "EE_model.fit(pca_train)"
      ]
    },
    {
      "cell_type": "markdown",
      "metadata": {
        "id": "Ax9wGpMGByNt"
      },
      "source": [
        "### Predict"
      ]
    },
    {
      "cell_type": "code",
      "execution_count": 20,
      "metadata": {
        "colab": {
          "base_uri": "https://localhost:8080/"
        },
        "id": "Ax6BFr-syDke",
        "outputId": "4457fa44-4dad-427f-e1ba-895c3c449266"
      },
      "outputs": [
        {
          "output_type": "stream",
          "name": "stdout",
          "text": [
            "Validation F1 Score : [0.5328409304070532]\n",
            "              precision    recall  f1-score   support\n",
            "\n",
            "           0       1.00      1.00      1.00     28432\n",
            "           1       0.07      0.07      0.07        30\n",
            "\n",
            "    accuracy                           1.00     28462\n",
            "   macro avg       0.53      0.53      0.53     28462\n",
            "weighted avg       1.00      1.00      1.00     28462\n",
            "\n"
          ]
        }
      ],
      "source": [
        "val_EE_pred = EE_model.predict(pca_val_x)\n",
        "val_EE_pred = get_pred_label(val_EE_pred)\n",
        "val_EE_score = f1_score(val_total_y, val_EE_pred, average='macro')\n",
        "print(f'Validation F1 Score : [{val_EE_score}]')\n",
        "print(classification_report(val_total_y, val_EE_pred))"
      ]
    },
    {
      "cell_type": "markdown",
      "metadata": {
        "id": "WcL_7_jkDR1a"
      },
      "source": [
        "## AutoEncoder"
      ]
    },
    {
      "cell_type": "code",
      "execution_count": 21,
      "metadata": {
        "colab": {
          "base_uri": "https://localhost:8080/"
        },
        "id": "_5s7gq0UHxi7",
        "outputId": "d59c6597-9b8f-4d73-f9bd-26e9dfef0097"
      },
      "outputs": [
        {
          "output_type": "execute_result",
          "data": {
            "text/plain": [
              "(113842, 25)"
            ]
          },
          "metadata": {},
          "execution_count": 21
        }
      ],
      "source": [
        "pca_train.shape"
      ]
    },
    {
      "cell_type": "code",
      "execution_count": 22,
      "metadata": {
        "id": "jLgfZ2do8dJe"
      },
      "outputs": [],
      "source": [
        "import tensorflow as tf\n",
        "from tensorflow.keras import Model\n",
        "# Sequential\n",
        "\n",
        "from tensorflow.keras.callbacks import EarlyStopping, ReduceLROnPlateau\n",
        "from tensorflow.keras import layers\n",
        "# Conv2D, Conv2DTranspose, Dense, Flatten, Dropout, BatchNormalization, Reshape, LeakyReLU"
      ]
    },
    {
      "cell_type": "markdown",
      "metadata": {
        "id": "FmZql91RedcQ"
      },
      "source": [
        "### Model"
      ]
    },
    {
      "cell_type": "code",
      "execution_count": 112,
      "metadata": {
        "id": "snrNOa94JArL"
      },
      "outputs": [],
      "source": [
        "input_dim = pca_train.shape[1]\n",
        "output_dim = input_dim\n",
        "encoding_dim = 128\n",
        "\n",
        "input_layer = layers.Input(shape=(input_dim, ))\n",
        "\n",
        "encoder1 = layers.Dense(encoding_dim/2, name='encoder1')(input_layer)\n",
        "encoder1 = layers.BatchNormalization()(encoder1)\n",
        "encoder1 = layers.LeakyReLU()(encoder1)\n",
        "\n",
        "encoder2 = layers.Dense(encoding_dim, name='encoder2')(encoder1)\n",
        "encoder2 = layers.BatchNormalization()(encoder2)\n",
        "encoder2 = layers.LeakyReLU()(encoder2)\n",
        "\n",
        "decoder1 = layers.Dense(encoding_dim/2, name='decoder1')(encoder2)\n",
        "decoder1 = layers.BatchNormalization()(decoder1)\n",
        "decoder1 = layers.LeakyReLU()(decoder1)\n",
        "\n",
        "decoder2 = layers.Dense(output_dim, name='decoder2')(decoder1)\n",
        "\n",
        "autoencoder = Model(input_layer, decoder2)\n",
        "autoencoder.compile(loss='mse', optimizer=tf.keras.optimizers.Adam(learning_rate=0.01))"
      ]
    },
    {
      "cell_type": "code",
      "execution_count": 113,
      "metadata": {
        "colab": {
          "base_uri": "https://localhost:8080/"
        },
        "id": "V0Aalg0WF4aG",
        "outputId": "eb4b5101-4da0-49ad-d998-7c4716a83966"
      },
      "outputs": [
        {
          "output_type": "stream",
          "name": "stdout",
          "text": [
            "====== 모델 전체 구조 ======\n",
            "Model: \"model_2\"\n",
            "_________________________________________________________________\n",
            " Layer (type)                Output Shape              Param #   \n",
            "=================================================================\n",
            " input_3 (InputLayer)        [(None, 25)]              0         \n",
            "                                                                 \n",
            " encoder1 (Dense)            (None, 64)                1664      \n",
            "                                                                 \n",
            " batch_normalization_6 (Batc  (None, 64)               256       \n",
            " hNormalization)                                                 \n",
            "                                                                 \n",
            " leaky_re_lu_6 (LeakyReLU)   (None, 64)                0         \n",
            "                                                                 \n",
            " encoder2 (Dense)            (None, 128)               8320      \n",
            "                                                                 \n",
            " batch_normalization_7 (Batc  (None, 128)              512       \n",
            " hNormalization)                                                 \n",
            "                                                                 \n",
            " leaky_re_lu_7 (LeakyReLU)   (None, 128)               0         \n",
            "                                                                 \n",
            " decoder1 (Dense)            (None, 64)                8256      \n",
            "                                                                 \n",
            " batch_normalization_8 (Batc  (None, 64)               256       \n",
            " hNormalization)                                                 \n",
            "                                                                 \n",
            " leaky_re_lu_8 (LeakyReLU)   (None, 64)                0         \n",
            "                                                                 \n",
            " decoder2 (Dense)            (None, 25)                1625      \n",
            "                                                                 \n",
            "=================================================================\n",
            "Total params: 20,889\n",
            "Trainable params: 20,377\n",
            "Non-trainable params: 512\n",
            "_________________________________________________________________\n",
            "None\n"
          ]
        }
      ],
      "source": [
        "print(\"====== 모델 전체 구조 ======\")\n",
        "print(autoencoder.summary())"
      ]
    },
    {
      "cell_type": "markdown",
      "metadata": {
        "id": "ybwacBFlehtZ"
      },
      "source": [
        "### \bFit"
      ]
    },
    {
      "cell_type": "code",
      "execution_count": 114,
      "metadata": {
        "id": "fB456LJu9sXn"
      },
      "outputs": [],
      "source": [
        "EPOCHS = 400\n",
        "BATCH = 2**14\n",
        "reduce_lr = ReduceLROnPlateau(monitor='loss', mode='max', factor=0.5, patience=10, min_lr=1e-8, verbose=True)\n",
        "# es = EarlyStopping(monitor='loss', patience=5, verbose=1)"
      ]
    },
    {
      "cell_type": "code",
      "execution_count": 115,
      "metadata": {
        "colab": {
          "base_uri": "https://localhost:8080/"
        },
        "id": "FcKZ2mjA9sdI",
        "outputId": "6aa1fc15-eb30-4caa-ef0a-93c9b89732fe"
      },
      "outputs": [
        {
          "output_type": "stream",
          "name": "stdout",
          "text": [
            "Epoch 1/400\n",
            "7/7 [==============================] - 3s 17ms/step - loss: 0.7011 - lr: 0.0100\n",
            "Epoch 2/400\n",
            "7/7 [==============================] - 0s 13ms/step - loss: 0.1992 - lr: 0.0100\n",
            "Epoch 3/400\n",
            "7/7 [==============================] - 0s 14ms/step - loss: 0.1074 - lr: 0.0100\n",
            "Epoch 4/400\n",
            "7/7 [==============================] - 0s 14ms/step - loss: 0.0803 - lr: 0.0100\n",
            "Epoch 5/400\n",
            "7/7 [==============================] - 0s 14ms/step - loss: 0.0619 - lr: 0.0100\n",
            "Epoch 6/400\n",
            "7/7 [==============================] - 0s 14ms/step - loss: 0.0510 - lr: 0.0100\n",
            "Epoch 7/400\n",
            "7/7 [==============================] - 0s 13ms/step - loss: 0.0431 - lr: 0.0100\n",
            "Epoch 8/400\n",
            "7/7 [==============================] - 0s 12ms/step - loss: 0.0381 - lr: 0.0100\n",
            "Epoch 9/400\n",
            "7/7 [==============================] - 0s 15ms/step - loss: 0.0341 - lr: 0.0100\n",
            "Epoch 10/400\n",
            "7/7 [==============================] - 0s 12ms/step - loss: 0.0313 - lr: 0.0100\n",
            "Epoch 11/400\n",
            "6/7 [========================>.....] - ETA: 0s - loss: 0.0289\n",
            "Epoch 11: ReduceLROnPlateau reducing learning rate to 0.004999999888241291.\n",
            "7/7 [==============================] - 0s 13ms/step - loss: 0.0288 - lr: 0.0100\n",
            "Epoch 12/400\n",
            "7/7 [==============================] - 0s 13ms/step - loss: 0.0270 - lr: 0.0050\n",
            "Epoch 13/400\n",
            "7/7 [==============================] - 0s 13ms/step - loss: 0.0257 - lr: 0.0050\n",
            "Epoch 14/400\n",
            "7/7 [==============================] - 0s 16ms/step - loss: 0.0254 - lr: 0.0050\n",
            "Epoch 15/400\n",
            "7/7 [==============================] - 0s 14ms/step - loss: 0.0241 - lr: 0.0050\n",
            "Epoch 16/400\n",
            "7/7 [==============================] - 0s 16ms/step - loss: 0.0236 - lr: 0.0050\n",
            "Epoch 17/400\n",
            "7/7 [==============================] - 0s 14ms/step - loss: 0.0230 - lr: 0.0050\n",
            "Epoch 18/400\n",
            "7/7 [==============================] - 0s 13ms/step - loss: 0.0225 - lr: 0.0050\n",
            "Epoch 19/400\n",
            "7/7 [==============================] - 0s 14ms/step - loss: 0.0220 - lr: 0.0050\n",
            "Epoch 20/400\n",
            "7/7 [==============================] - 0s 15ms/step - loss: 0.0211 - lr: 0.0050\n",
            "Epoch 21/400\n",
            "5/7 [====================>.........] - ETA: 0s - loss: 0.0210\n",
            "Epoch 21: ReduceLROnPlateau reducing learning rate to 0.0024999999441206455.\n",
            "7/7 [==============================] - 0s 16ms/step - loss: 0.0207 - lr: 0.0050\n",
            "Epoch 22/400\n",
            "7/7 [==============================] - 0s 15ms/step - loss: 0.0201 - lr: 0.0025\n",
            "Epoch 23/400\n",
            "7/7 [==============================] - 0s 15ms/step - loss: 0.0193 - lr: 0.0025\n",
            "Epoch 24/400\n",
            "7/7 [==============================] - 0s 15ms/step - loss: 0.0192 - lr: 0.0025\n",
            "Epoch 25/400\n",
            "7/7 [==============================] - 0s 15ms/step - loss: 0.0191 - lr: 0.0025\n",
            "Epoch 26/400\n",
            "7/7 [==============================] - 0s 11ms/step - loss: 0.0190 - lr: 0.0025\n",
            "Epoch 27/400\n",
            "7/7 [==============================] - 0s 12ms/step - loss: 0.0186 - lr: 0.0025\n",
            "Epoch 28/400\n",
            "7/7 [==============================] - 0s 13ms/step - loss: 0.0186 - lr: 0.0025\n",
            "Epoch 29/400\n",
            "7/7 [==============================] - 0s 11ms/step - loss: 0.0184 - lr: 0.0025\n",
            "Epoch 30/400\n",
            "7/7 [==============================] - 0s 11ms/step - loss: 0.0179 - lr: 0.0025\n",
            "Epoch 31/400\n",
            "6/7 [========================>.....] - ETA: 0s - loss: 0.0175\n",
            "Epoch 31: ReduceLROnPlateau reducing learning rate to 0.0012499999720603228.\n",
            "7/7 [==============================] - 0s 12ms/step - loss: 0.0174 - lr: 0.0025\n",
            "Epoch 32/400\n",
            "7/7 [==============================] - 0s 10ms/step - loss: 0.0172 - lr: 0.0012\n",
            "Epoch 33/400\n",
            "7/7 [==============================] - 0s 10ms/step - loss: 0.0171 - lr: 0.0012\n",
            "Epoch 34/400\n",
            "7/7 [==============================] - 0s 11ms/step - loss: 0.0172 - lr: 0.0012\n",
            "Epoch 35/400\n",
            "7/7 [==============================] - 0s 10ms/step - loss: 0.0173 - lr: 0.0012\n",
            "Epoch 36/400\n",
            "7/7 [==============================] - 0s 11ms/step - loss: 0.0171 - lr: 0.0012\n",
            "Epoch 37/400\n",
            "7/7 [==============================] - 0s 10ms/step - loss: 0.0168 - lr: 0.0012\n",
            "Epoch 38/400\n",
            "7/7 [==============================] - 0s 11ms/step - loss: 0.0168 - lr: 0.0012\n",
            "Epoch 39/400\n",
            "7/7 [==============================] - 0s 13ms/step - loss: 0.0166 - lr: 0.0012\n",
            "Epoch 40/400\n",
            "7/7 [==============================] - 0s 10ms/step - loss: 0.0163 - lr: 0.0012\n",
            "Epoch 41/400\n",
            "6/7 [========================>.....] - ETA: 0s - loss: 0.0167\n",
            "Epoch 41: ReduceLROnPlateau reducing learning rate to 0.0006249999860301614.\n",
            "7/7 [==============================] - 0s 11ms/step - loss: 0.0166 - lr: 0.0012\n",
            "Epoch 42/400\n",
            "7/7 [==============================] - 0s 10ms/step - loss: 0.0161 - lr: 6.2500e-04\n",
            "Epoch 43/400\n",
            "7/7 [==============================] - 0s 10ms/step - loss: 0.0162 - lr: 6.2500e-04\n",
            "Epoch 44/400\n",
            "7/7 [==============================] - 0s 10ms/step - loss: 0.0162 - lr: 6.2500e-04\n",
            "Epoch 45/400\n",
            "7/7 [==============================] - 0s 10ms/step - loss: 0.0160 - lr: 6.2500e-04\n",
            "Epoch 46/400\n",
            "7/7 [==============================] - 0s 10ms/step - loss: 0.0158 - lr: 6.2500e-04\n",
            "Epoch 47/400\n",
            "7/7 [==============================] - 0s 10ms/step - loss: 0.0158 - lr: 6.2500e-04\n",
            "Epoch 48/400\n",
            "7/7 [==============================] - 0s 11ms/step - loss: 0.0159 - lr: 6.2500e-04\n",
            "Epoch 49/400\n",
            "7/7 [==============================] - 0s 11ms/step - loss: 0.0161 - lr: 6.2500e-04\n",
            "Epoch 50/400\n",
            "7/7 [==============================] - 0s 10ms/step - loss: 0.0157 - lr: 6.2500e-04\n",
            "Epoch 51/400\n",
            "7/7 [==============================] - ETA: 0s - loss: 0.0157\n",
            "Epoch 51: ReduceLROnPlateau reducing learning rate to 0.0003124999930150807.\n",
            "7/7 [==============================] - 0s 10ms/step - loss: 0.0157 - lr: 6.2500e-04\n",
            "Epoch 52/400\n",
            "7/7 [==============================] - 0s 11ms/step - loss: 0.0156 - lr: 3.1250e-04\n",
            "Epoch 53/400\n",
            "7/7 [==============================] - 0s 10ms/step - loss: 0.0162 - lr: 3.1250e-04\n",
            "Epoch 54/400\n",
            "7/7 [==============================] - 0s 11ms/step - loss: 0.0155 - lr: 3.1250e-04\n",
            "Epoch 55/400\n",
            "7/7 [==============================] - 0s 12ms/step - loss: 0.0157 - lr: 3.1250e-04\n",
            "Epoch 56/400\n",
            "7/7 [==============================] - 0s 10ms/step - loss: 0.0156 - lr: 3.1250e-04\n",
            "Epoch 57/400\n",
            "7/7 [==============================] - 0s 11ms/step - loss: 0.0154 - lr: 3.1250e-04\n",
            "Epoch 58/400\n",
            "7/7 [==============================] - 0s 10ms/step - loss: 0.0156 - lr: 3.1250e-04\n",
            "Epoch 59/400\n",
            "7/7 [==============================] - 0s 13ms/step - loss: 0.0156 - lr: 3.1250e-04\n",
            "Epoch 60/400\n",
            "7/7 [==============================] - 0s 11ms/step - loss: 0.0152 - lr: 3.1250e-04\n",
            "Epoch 61/400\n",
            "6/7 [========================>.....] - ETA: 0s - loss: 0.0154\n",
            "Epoch 61: ReduceLROnPlateau reducing learning rate to 0.00015624999650754035.\n",
            "7/7 [==============================] - 0s 11ms/step - loss: 0.0154 - lr: 3.1250e-04\n",
            "Epoch 62/400\n",
            "7/7 [==============================] - 0s 12ms/step - loss: 0.0152 - lr: 1.5625e-04\n",
            "Epoch 63/400\n",
            "7/7 [==============================] - 0s 14ms/step - loss: 0.0153 - lr: 1.5625e-04\n",
            "Epoch 64/400\n",
            "7/7 [==============================] - 0s 13ms/step - loss: 0.0154 - lr: 1.5625e-04\n",
            "Epoch 65/400\n",
            "7/7 [==============================] - 0s 15ms/step - loss: 0.0152 - lr: 1.5625e-04\n",
            "Epoch 66/400\n",
            "7/7 [==============================] - 0s 15ms/step - loss: 0.0153 - lr: 1.5625e-04\n",
            "Epoch 67/400\n",
            "7/7 [==============================] - 0s 12ms/step - loss: 0.0154 - lr: 1.5625e-04\n",
            "Epoch 68/400\n",
            "7/7 [==============================] - 0s 11ms/step - loss: 0.0156 - lr: 1.5625e-04\n",
            "Epoch 69/400\n",
            "7/7 [==============================] - 0s 12ms/step - loss: 0.0151 - lr: 1.5625e-04\n",
            "Epoch 70/400\n",
            "7/7 [==============================] - 0s 10ms/step - loss: 0.0153 - lr: 1.5625e-04\n",
            "Epoch 71/400\n",
            "7/7 [==============================] - ETA: 0s - loss: 0.0155\n",
            "Epoch 71: ReduceLROnPlateau reducing learning rate to 7.812499825377017e-05.\n",
            "7/7 [==============================] - 0s 11ms/step - loss: 0.0155 - lr: 1.5625e-04\n",
            "Epoch 72/400\n",
            "7/7 [==============================] - 0s 17ms/step - loss: 0.0150 - lr: 7.8125e-05\n",
            "Epoch 73/400\n",
            "7/7 [==============================] - 0s 11ms/step - loss: 0.0151 - lr: 7.8125e-05\n",
            "Epoch 74/400\n",
            "7/7 [==============================] - 0s 14ms/step - loss: 0.0151 - lr: 7.8125e-05\n",
            "Epoch 75/400\n",
            "7/7 [==============================] - 0s 12ms/step - loss: 0.0150 - lr: 7.8125e-05\n",
            "Epoch 76/400\n",
            "7/7 [==============================] - 0s 13ms/step - loss: 0.0150 - lr: 7.8125e-05\n",
            "Epoch 77/400\n",
            "7/7 [==============================] - 0s 13ms/step - loss: 0.0151 - lr: 7.8125e-05\n",
            "Epoch 78/400\n",
            "7/7 [==============================] - 0s 14ms/step - loss: 0.0159 - lr: 7.8125e-05\n",
            "Epoch 79/400\n",
            "7/7 [==============================] - 0s 12ms/step - loss: 0.0153 - lr: 7.8125e-05\n",
            "Epoch 80/400\n",
            "7/7 [==============================] - 0s 10ms/step - loss: 0.0150 - lr: 7.8125e-05\n",
            "Epoch 81/400\n",
            "7/7 [==============================] - ETA: 0s - loss: 0.0152\n",
            "Epoch 81: ReduceLROnPlateau reducing learning rate to 3.9062499126885086e-05.\n",
            "7/7 [==============================] - 0s 11ms/step - loss: 0.0152 - lr: 7.8125e-05\n",
            "Epoch 82/400\n",
            "7/7 [==============================] - 0s 10ms/step - loss: 0.0152 - lr: 3.9062e-05\n",
            "Epoch 83/400\n",
            "7/7 [==============================] - 0s 10ms/step - loss: 0.0152 - lr: 3.9062e-05\n",
            "Epoch 84/400\n",
            "7/7 [==============================] - 0s 9ms/step - loss: 0.0155 - lr: 3.9062e-05\n",
            "Epoch 85/400\n",
            "7/7 [==============================] - 0s 8ms/step - loss: 0.0153 - lr: 3.9062e-05\n",
            "Epoch 86/400\n",
            "7/7 [==============================] - 0s 10ms/step - loss: 0.0152 - lr: 3.9062e-05\n",
            "Epoch 87/400\n",
            "7/7 [==============================] - 0s 11ms/step - loss: 0.0152 - lr: 3.9062e-05\n",
            "Epoch 88/400\n",
            "7/7 [==============================] - 0s 11ms/step - loss: 0.0150 - lr: 3.9062e-05\n",
            "Epoch 89/400\n",
            "7/7 [==============================] - 0s 9ms/step - loss: 0.0151 - lr: 3.9062e-05\n",
            "Epoch 90/400\n",
            "7/7 [==============================] - 0s 9ms/step - loss: 0.0152 - lr: 3.9062e-05\n",
            "Epoch 91/400\n",
            "7/7 [==============================] - ETA: 0s - loss: 0.0151\n",
            "Epoch 91: ReduceLROnPlateau reducing learning rate to 1.9531249563442543e-05.\n",
            "7/7 [==============================] - 0s 10ms/step - loss: 0.0151 - lr: 3.9062e-05\n",
            "Epoch 92/400\n",
            "7/7 [==============================] - 0s 9ms/step - loss: 0.0150 - lr: 1.9531e-05\n",
            "Epoch 93/400\n",
            "7/7 [==============================] - 0s 10ms/step - loss: 0.0150 - lr: 1.9531e-05\n",
            "Epoch 94/400\n",
            "7/7 [==============================] - 0s 10ms/step - loss: 0.0154 - lr: 1.9531e-05\n",
            "Epoch 95/400\n",
            "7/7 [==============================] - 0s 11ms/step - loss: 0.0149 - lr: 1.9531e-05\n",
            "Epoch 96/400\n",
            "7/7 [==============================] - 0s 10ms/step - loss: 0.0150 - lr: 1.9531e-05\n",
            "Epoch 97/400\n",
            "7/7 [==============================] - 0s 10ms/step - loss: 0.0151 - lr: 1.9531e-05\n",
            "Epoch 98/400\n",
            "7/7 [==============================] - 0s 10ms/step - loss: 0.0153 - lr: 1.9531e-05\n",
            "Epoch 99/400\n",
            "7/7 [==============================] - 0s 10ms/step - loss: 0.0150 - lr: 1.9531e-05\n",
            "Epoch 100/400\n",
            "7/7 [==============================] - 0s 12ms/step - loss: 0.0155 - lr: 1.9531e-05\n",
            "Epoch 101/400\n",
            "7/7 [==============================] - ETA: 0s - loss: 0.0149\n",
            "Epoch 101: ReduceLROnPlateau reducing learning rate to 9.765624781721272e-06.\n",
            "7/7 [==============================] - 0s 10ms/step - loss: 0.0149 - lr: 1.9531e-05\n",
            "Epoch 102/400\n",
            "7/7 [==============================] - 0s 11ms/step - loss: 0.0152 - lr: 9.7656e-06\n",
            "Epoch 103/400\n",
            "7/7 [==============================] - 0s 10ms/step - loss: 0.0150 - lr: 9.7656e-06\n",
            "Epoch 104/400\n",
            "7/7 [==============================] - 0s 13ms/step - loss: 0.0150 - lr: 9.7656e-06\n",
            "Epoch 105/400\n",
            "7/7 [==============================] - 0s 10ms/step - loss: 0.0150 - lr: 9.7656e-06\n",
            "Epoch 106/400\n",
            "7/7 [==============================] - 0s 10ms/step - loss: 0.0151 - lr: 9.7656e-06\n",
            "Epoch 107/400\n",
            "7/7 [==============================] - 0s 14ms/step - loss: 0.0151 - lr: 9.7656e-06\n",
            "Epoch 108/400\n",
            "7/7 [==============================] - 0s 10ms/step - loss: 0.0152 - lr: 9.7656e-06\n",
            "Epoch 109/400\n",
            "7/7 [==============================] - 0s 9ms/step - loss: 0.0149 - lr: 9.7656e-06\n",
            "Epoch 110/400\n",
            "7/7 [==============================] - 0s 11ms/step - loss: 0.0150 - lr: 9.7656e-06\n",
            "Epoch 111/400\n",
            "7/7 [==============================] - ETA: 0s - loss: 0.0148\n",
            "Epoch 111: ReduceLROnPlateau reducing learning rate to 4.882812390860636e-06.\n",
            "7/7 [==============================] - 0s 11ms/step - loss: 0.0148 - lr: 9.7656e-06\n",
            "Epoch 112/400\n",
            "7/7 [==============================] - 0s 12ms/step - loss: 0.0151 - lr: 4.8828e-06\n",
            "Epoch 113/400\n",
            "7/7 [==============================] - 0s 10ms/step - loss: 0.0149 - lr: 4.8828e-06\n",
            "Epoch 114/400\n",
            "7/7 [==============================] - 0s 10ms/step - loss: 0.0153 - lr: 4.8828e-06\n",
            "Epoch 115/400\n",
            "7/7 [==============================] - 0s 11ms/step - loss: 0.0151 - lr: 4.8828e-06\n",
            "Epoch 116/400\n",
            "7/7 [==============================] - 0s 10ms/step - loss: 0.0151 - lr: 4.8828e-06\n",
            "Epoch 117/400\n",
            "7/7 [==============================] - 0s 9ms/step - loss: 0.0152 - lr: 4.8828e-06\n",
            "Epoch 118/400\n",
            "7/7 [==============================] - 0s 10ms/step - loss: 0.0149 - lr: 4.8828e-06\n",
            "Epoch 119/400\n",
            "7/7 [==============================] - 0s 11ms/step - loss: 0.0148 - lr: 4.8828e-06\n",
            "Epoch 120/400\n",
            "7/7 [==============================] - 0s 11ms/step - loss: 0.0151 - lr: 4.8828e-06\n",
            "Epoch 121/400\n",
            "7/7 [==============================] - ETA: 0s - loss: 0.0151\n",
            "Epoch 121: ReduceLROnPlateau reducing learning rate to 2.441406195430318e-06.\n",
            "7/7 [==============================] - 0s 10ms/step - loss: 0.0151 - lr: 4.8828e-06\n",
            "Epoch 122/400\n",
            "7/7 [==============================] - 0s 10ms/step - loss: 0.0148 - lr: 2.4414e-06\n",
            "Epoch 123/400\n",
            "7/7 [==============================] - 0s 11ms/step - loss: 0.0150 - lr: 2.4414e-06\n",
            "Epoch 124/400\n",
            "7/7 [==============================] - 0s 11ms/step - loss: 0.0151 - lr: 2.4414e-06\n",
            "Epoch 125/400\n",
            "7/7 [==============================] - 0s 11ms/step - loss: 0.0150 - lr: 2.4414e-06\n",
            "Epoch 126/400\n",
            "7/7 [==============================] - 0s 11ms/step - loss: 0.0150 - lr: 2.4414e-06\n",
            "Epoch 127/400\n",
            "7/7 [==============================] - 0s 10ms/step - loss: 0.0152 - lr: 2.4414e-06\n",
            "Epoch 128/400\n",
            "7/7 [==============================] - 0s 11ms/step - loss: 0.0154 - lr: 2.4414e-06\n",
            "Epoch 129/400\n",
            "7/7 [==============================] - 0s 10ms/step - loss: 0.0149 - lr: 2.4414e-06\n",
            "Epoch 130/400\n",
            "7/7 [==============================] - 0s 10ms/step - loss: 0.0149 - lr: 2.4414e-06\n",
            "Epoch 131/400\n",
            "7/7 [==============================] - ETA: 0s - loss: 0.0152\n",
            "Epoch 131: ReduceLROnPlateau reducing learning rate to 1.220703097715159e-06.\n",
            "7/7 [==============================] - 0s 11ms/step - loss: 0.0152 - lr: 2.4414e-06\n",
            "Epoch 132/400\n",
            "7/7 [==============================] - 0s 12ms/step - loss: 0.0148 - lr: 1.2207e-06\n",
            "Epoch 133/400\n",
            "7/7 [==============================] - 0s 11ms/step - loss: 0.0149 - lr: 1.2207e-06\n",
            "Epoch 134/400\n",
            "7/7 [==============================] - 0s 12ms/step - loss: 0.0151 - lr: 1.2207e-06\n",
            "Epoch 135/400\n",
            "7/7 [==============================] - 0s 11ms/step - loss: 0.0152 - lr: 1.2207e-06\n",
            "Epoch 136/400\n",
            "7/7 [==============================] - 0s 10ms/step - loss: 0.0152 - lr: 1.2207e-06\n",
            "Epoch 137/400\n",
            "7/7 [==============================] - 0s 12ms/step - loss: 0.0152 - lr: 1.2207e-06\n",
            "Epoch 138/400\n",
            "7/7 [==============================] - 0s 10ms/step - loss: 0.0152 - lr: 1.2207e-06\n",
            "Epoch 139/400\n",
            "7/7 [==============================] - 0s 11ms/step - loss: 0.0150 - lr: 1.2207e-06\n",
            "Epoch 140/400\n",
            "7/7 [==============================] - 0s 10ms/step - loss: 0.0151 - lr: 1.2207e-06\n",
            "Epoch 141/400\n",
            "7/7 [==============================] - ETA: 0s - loss: 0.0147\n",
            "Epoch 141: ReduceLROnPlateau reducing learning rate to 6.103515488575795e-07.\n",
            "7/7 [==============================] - 0s 10ms/step - loss: 0.0147 - lr: 1.2207e-06\n",
            "Epoch 142/400\n",
            "7/7 [==============================] - 0s 11ms/step - loss: 0.0150 - lr: 6.1035e-07\n",
            "Epoch 143/400\n",
            "7/7 [==============================] - 0s 10ms/step - loss: 0.0151 - lr: 6.1035e-07\n",
            "Epoch 144/400\n",
            "7/7 [==============================] - 0s 10ms/step - loss: 0.0151 - lr: 6.1035e-07\n",
            "Epoch 145/400\n",
            "7/7 [==============================] - 0s 12ms/step - loss: 0.0150 - lr: 6.1035e-07\n",
            "Epoch 146/400\n",
            "7/7 [==============================] - 0s 15ms/step - loss: 0.0149 - lr: 6.1035e-07\n",
            "Epoch 147/400\n",
            "7/7 [==============================] - 0s 15ms/step - loss: 0.0150 - lr: 6.1035e-07\n",
            "Epoch 148/400\n",
            "7/7 [==============================] - 0s 13ms/step - loss: 0.0150 - lr: 6.1035e-07\n",
            "Epoch 149/400\n",
            "7/7 [==============================] - 0s 15ms/step - loss: 0.0150 - lr: 6.1035e-07\n",
            "Epoch 150/400\n",
            "7/7 [==============================] - 0s 12ms/step - loss: 0.0149 - lr: 6.1035e-07\n",
            "Epoch 151/400\n",
            "6/7 [========================>.....] - ETA: 0s - loss: 0.0148\n",
            "Epoch 151: ReduceLROnPlateau reducing learning rate to 3.0517577442878974e-07.\n",
            "7/7 [==============================] - 0s 14ms/step - loss: 0.0148 - lr: 6.1035e-07\n",
            "Epoch 152/400\n",
            "7/7 [==============================] - 0s 12ms/step - loss: 0.0151 - lr: 3.0518e-07\n",
            "Epoch 153/400\n",
            "7/7 [==============================] - 0s 15ms/step - loss: 0.0151 - lr: 3.0518e-07\n",
            "Epoch 154/400\n",
            "7/7 [==============================] - 0s 14ms/step - loss: 0.0151 - lr: 3.0518e-07\n",
            "Epoch 155/400\n",
            "7/7 [==============================] - 0s 13ms/step - loss: 0.0151 - lr: 3.0518e-07\n",
            "Epoch 156/400\n",
            "7/7 [==============================] - 0s 14ms/step - loss: 0.0151 - lr: 3.0518e-07\n",
            "Epoch 157/400\n",
            "7/7 [==============================] - 0s 13ms/step - loss: 0.0154 - lr: 3.0518e-07\n",
            "Epoch 158/400\n",
            "7/7 [==============================] - 0s 12ms/step - loss: 0.0153 - lr: 3.0518e-07\n",
            "Epoch 159/400\n",
            "7/7 [==============================] - 0s 15ms/step - loss: 0.0150 - lr: 3.0518e-07\n",
            "Epoch 160/400\n",
            "7/7 [==============================] - 0s 14ms/step - loss: 0.0151 - lr: 3.0518e-07\n",
            "Epoch 161/400\n",
            "5/7 [====================>.........] - ETA: 0s - loss: 0.0151\n",
            "Epoch 161: ReduceLROnPlateau reducing learning rate to 1.5258788721439487e-07.\n",
            "7/7 [==============================] - 0s 15ms/step - loss: 0.0150 - lr: 3.0518e-07\n",
            "Epoch 162/400\n",
            "7/7 [==============================] - 0s 14ms/step - loss: 0.0150 - lr: 1.5259e-07\n",
            "Epoch 163/400\n",
            "7/7 [==============================] - 0s 15ms/step - loss: 0.0150 - lr: 1.5259e-07\n",
            "Epoch 164/400\n",
            "7/7 [==============================] - 0s 13ms/step - loss: 0.0149 - lr: 1.5259e-07\n",
            "Epoch 165/400\n",
            "7/7 [==============================] - 0s 13ms/step - loss: 0.0151 - lr: 1.5259e-07\n",
            "Epoch 166/400\n",
            "7/7 [==============================] - 0s 13ms/step - loss: 0.0152 - lr: 1.5259e-07\n",
            "Epoch 167/400\n",
            "7/7 [==============================] - 0s 14ms/step - loss: 0.0150 - lr: 1.5259e-07\n",
            "Epoch 168/400\n",
            "7/7 [==============================] - 0s 13ms/step - loss: 0.0149 - lr: 1.5259e-07\n",
            "Epoch 169/400\n",
            "7/7 [==============================] - 0s 14ms/step - loss: 0.0150 - lr: 1.5259e-07\n",
            "Epoch 170/400\n",
            "7/7 [==============================] - 0s 14ms/step - loss: 0.0151 - lr: 1.5259e-07\n",
            "Epoch 171/400\n",
            "5/7 [====================>.........] - ETA: 0s - loss: 0.0152\n",
            "Epoch 171: ReduceLROnPlateau reducing learning rate to 7.629394360719743e-08.\n",
            "7/7 [==============================] - 0s 16ms/step - loss: 0.0152 - lr: 1.5259e-07\n",
            "Epoch 172/400\n",
            "7/7 [==============================] - 0s 15ms/step - loss: 0.0150 - lr: 7.6294e-08\n",
            "Epoch 173/400\n",
            "7/7 [==============================] - 0s 14ms/step - loss: 0.0152 - lr: 7.6294e-08\n",
            "Epoch 174/400\n",
            "7/7 [==============================] - 0s 11ms/step - loss: 0.0150 - lr: 7.6294e-08\n",
            "Epoch 175/400\n",
            "7/7 [==============================] - 0s 13ms/step - loss: 0.0150 - lr: 7.6294e-08\n",
            "Epoch 176/400\n",
            "7/7 [==============================] - 0s 14ms/step - loss: 0.0153 - lr: 7.6294e-08\n",
            "Epoch 177/400\n",
            "7/7 [==============================] - 0s 13ms/step - loss: 0.0150 - lr: 7.6294e-08\n",
            "Epoch 178/400\n",
            "7/7 [==============================] - 0s 13ms/step - loss: 0.0150 - lr: 7.6294e-08\n",
            "Epoch 179/400\n",
            "7/7 [==============================] - 0s 13ms/step - loss: 0.0154 - lr: 7.6294e-08\n",
            "Epoch 180/400\n",
            "7/7 [==============================] - 0s 14ms/step - loss: 0.0148 - lr: 7.6294e-08\n",
            "Epoch 181/400\n",
            "6/7 [========================>.....] - ETA: 0s - loss: 0.0149\n",
            "Epoch 181: ReduceLROnPlateau reducing learning rate to 3.814697180359872e-08.\n",
            "7/7 [==============================] - 0s 13ms/step - loss: 0.0149 - lr: 7.6294e-08\n",
            "Epoch 182/400\n",
            "7/7 [==============================] - 0s 15ms/step - loss: 0.0154 - lr: 3.8147e-08\n",
            "Epoch 183/400\n",
            "7/7 [==============================] - 0s 13ms/step - loss: 0.0149 - lr: 3.8147e-08\n",
            "Epoch 184/400\n",
            "7/7 [==============================] - 0s 12ms/step - loss: 0.0151 - lr: 3.8147e-08\n",
            "Epoch 185/400\n",
            "7/7 [==============================] - 0s 17ms/step - loss: 0.0153 - lr: 3.8147e-08\n",
            "Epoch 186/400\n",
            "7/7 [==============================] - 0s 14ms/step - loss: 0.0147 - lr: 3.8147e-08\n",
            "Epoch 187/400\n",
            "7/7 [==============================] - 0s 14ms/step - loss: 0.0149 - lr: 3.8147e-08\n",
            "Epoch 188/400\n",
            "7/7 [==============================] - 0s 10ms/step - loss: 0.0151 - lr: 3.8147e-08\n",
            "Epoch 189/400\n",
            "7/7 [==============================] - 0s 10ms/step - loss: 0.0150 - lr: 3.8147e-08\n",
            "Epoch 190/400\n",
            "7/7 [==============================] - 0s 10ms/step - loss: 0.0153 - lr: 3.8147e-08\n",
            "Epoch 191/400\n",
            "6/7 [========================>.....] - ETA: 0s - loss: 0.0150\n",
            "Epoch 191: ReduceLROnPlateau reducing learning rate to 1.907348590179936e-08.\n",
            "7/7 [==============================] - 0s 13ms/step - loss: 0.0150 - lr: 3.8147e-08\n",
            "Epoch 192/400\n",
            "7/7 [==============================] - 0s 10ms/step - loss: 0.0152 - lr: 1.9073e-08\n",
            "Epoch 193/400\n",
            "7/7 [==============================] - 0s 10ms/step - loss: 0.0150 - lr: 1.9073e-08\n",
            "Epoch 194/400\n",
            "7/7 [==============================] - 0s 11ms/step - loss: 0.0150 - lr: 1.9073e-08\n",
            "Epoch 195/400\n",
            "7/7 [==============================] - 0s 10ms/step - loss: 0.0153 - lr: 1.9073e-08\n",
            "Epoch 196/400\n",
            "7/7 [==============================] - 0s 11ms/step - loss: 0.0150 - lr: 1.9073e-08\n",
            "Epoch 197/400\n",
            "7/7 [==============================] - 0s 10ms/step - loss: 0.0150 - lr: 1.9073e-08\n",
            "Epoch 198/400\n",
            "7/7 [==============================] - 0s 10ms/step - loss: 0.0151 - lr: 1.9073e-08\n",
            "Epoch 199/400\n",
            "7/7 [==============================] - 0s 10ms/step - loss: 0.0151 - lr: 1.9073e-08\n",
            "Epoch 200/400\n",
            "7/7 [==============================] - 0s 10ms/step - loss: 0.0152 - lr: 1.9073e-08\n",
            "Epoch 201/400\n",
            "6/7 [========================>.....] - ETA: 0s - loss: 0.0151\n",
            "Epoch 201: ReduceLROnPlateau reducing learning rate to 1e-08.\n",
            "7/7 [==============================] - 0s 11ms/step - loss: 0.0150 - lr: 1.9073e-08\n",
            "Epoch 202/400\n",
            "7/7 [==============================] - 0s 10ms/step - loss: 0.0150 - lr: 1.0000e-08\n",
            "Epoch 203/400\n",
            "7/7 [==============================] - 0s 11ms/step - loss: 0.0153 - lr: 1.0000e-08\n",
            "Epoch 204/400\n",
            "7/7 [==============================] - 0s 11ms/step - loss: 0.0149 - lr: 1.0000e-08\n",
            "Epoch 205/400\n",
            "7/7 [==============================] - 0s 11ms/step - loss: 0.0149 - lr: 1.0000e-08\n",
            "Epoch 206/400\n",
            "7/7 [==============================] - 0s 9ms/step - loss: 0.0150 - lr: 1.0000e-08\n",
            "Epoch 207/400\n",
            "7/7 [==============================] - 0s 11ms/step - loss: 0.0151 - lr: 1.0000e-08\n",
            "Epoch 208/400\n",
            "7/7 [==============================] - 0s 10ms/step - loss: 0.0153 - lr: 1.0000e-08\n",
            "Epoch 209/400\n",
            "7/7 [==============================] - 0s 10ms/step - loss: 0.0151 - lr: 1.0000e-08\n",
            "Epoch 210/400\n",
            "7/7 [==============================] - 0s 10ms/step - loss: 0.0149 - lr: 1.0000e-08\n",
            "Epoch 211/400\n",
            "7/7 [==============================] - 0s 10ms/step - loss: 0.0151 - lr: 1.0000e-08\n",
            "Epoch 212/400\n",
            "7/7 [==============================] - 0s 10ms/step - loss: 0.0150 - lr: 1.0000e-08\n",
            "Epoch 213/400\n",
            "7/7 [==============================] - 0s 10ms/step - loss: 0.0148 - lr: 1.0000e-08\n",
            "Epoch 214/400\n",
            "7/7 [==============================] - 0s 10ms/step - loss: 0.0151 - lr: 1.0000e-08\n",
            "Epoch 215/400\n",
            "7/7 [==============================] - 0s 10ms/step - loss: 0.0150 - lr: 1.0000e-08\n",
            "Epoch 216/400\n",
            "7/7 [==============================] - 0s 13ms/step - loss: 0.0152 - lr: 1.0000e-08\n",
            "Epoch 217/400\n",
            "7/7 [==============================] - 0s 10ms/step - loss: 0.0149 - lr: 1.0000e-08\n",
            "Epoch 218/400\n",
            "7/7 [==============================] - 0s 11ms/step - loss: 0.0151 - lr: 1.0000e-08\n",
            "Epoch 219/400\n",
            "7/7 [==============================] - 0s 11ms/step - loss: 0.0153 - lr: 1.0000e-08\n",
            "Epoch 220/400\n",
            "7/7 [==============================] - 0s 10ms/step - loss: 0.0151 - lr: 1.0000e-08\n",
            "Epoch 221/400\n",
            "7/7 [==============================] - 0s 10ms/step - loss: 0.0157 - lr: 1.0000e-08\n",
            "Epoch 222/400\n",
            "7/7 [==============================] - 0s 10ms/step - loss: 0.0150 - lr: 1.0000e-08\n",
            "Epoch 223/400\n",
            "7/7 [==============================] - 0s 10ms/step - loss: 0.0151 - lr: 1.0000e-08\n",
            "Epoch 224/400\n",
            "7/7 [==============================] - 0s 10ms/step - loss: 0.0150 - lr: 1.0000e-08\n",
            "Epoch 225/400\n",
            "7/7 [==============================] - 0s 11ms/step - loss: 0.0149 - lr: 1.0000e-08\n",
            "Epoch 226/400\n",
            "7/7 [==============================] - 0s 11ms/step - loss: 0.0150 - lr: 1.0000e-08\n",
            "Epoch 227/400\n",
            "7/7 [==============================] - 0s 11ms/step - loss: 0.0148 - lr: 1.0000e-08\n",
            "Epoch 228/400\n",
            "7/7 [==============================] - 0s 11ms/step - loss: 0.0149 - lr: 1.0000e-08\n",
            "Epoch 229/400\n",
            "7/7 [==============================] - 0s 12ms/step - loss: 0.0153 - lr: 1.0000e-08\n",
            "Epoch 230/400\n",
            "7/7 [==============================] - 0s 10ms/step - loss: 0.0151 - lr: 1.0000e-08\n",
            "Epoch 231/400\n",
            "7/7 [==============================] - 0s 10ms/step - loss: 0.0150 - lr: 1.0000e-08\n",
            "Epoch 232/400\n",
            "7/7 [==============================] - 0s 10ms/step - loss: 0.0153 - lr: 1.0000e-08\n",
            "Epoch 233/400\n",
            "7/7 [==============================] - 0s 10ms/step - loss: 0.0150 - lr: 1.0000e-08\n",
            "Epoch 234/400\n",
            "7/7 [==============================] - 0s 11ms/step - loss: 0.0151 - lr: 1.0000e-08\n",
            "Epoch 235/400\n",
            "7/7 [==============================] - 0s 10ms/step - loss: 0.0153 - lr: 1.0000e-08\n",
            "Epoch 236/400\n",
            "7/7 [==============================] - 0s 11ms/step - loss: 0.0152 - lr: 1.0000e-08\n",
            "Epoch 237/400\n",
            "7/7 [==============================] - 0s 10ms/step - loss: 0.0152 - lr: 1.0000e-08\n",
            "Epoch 238/400\n",
            "7/7 [==============================] - 0s 10ms/step - loss: 0.0155 - lr: 1.0000e-08\n",
            "Epoch 239/400\n",
            "7/7 [==============================] - 0s 9ms/step - loss: 0.0150 - lr: 1.0000e-08\n",
            "Epoch 240/400\n",
            "7/7 [==============================] - 0s 10ms/step - loss: 0.0150 - lr: 1.0000e-08\n",
            "Epoch 241/400\n",
            "7/7 [==============================] - 0s 11ms/step - loss: 0.0150 - lr: 1.0000e-08\n",
            "Epoch 242/400\n",
            "7/7 [==============================] - 0s 11ms/step - loss: 0.0151 - lr: 1.0000e-08\n",
            "Epoch 243/400\n",
            "7/7 [==============================] - 0s 11ms/step - loss: 0.0149 - lr: 1.0000e-08\n",
            "Epoch 244/400\n",
            "7/7 [==============================] - 0s 11ms/step - loss: 0.0154 - lr: 1.0000e-08\n",
            "Epoch 245/400\n",
            "7/7 [==============================] - 0s 10ms/step - loss: 0.0153 - lr: 1.0000e-08\n",
            "Epoch 246/400\n",
            "7/7 [==============================] - 0s 11ms/step - loss: 0.0150 - lr: 1.0000e-08\n",
            "Epoch 247/400\n",
            "7/7 [==============================] - 0s 10ms/step - loss: 0.0152 - lr: 1.0000e-08\n",
            "Epoch 248/400\n",
            "7/7 [==============================] - 0s 10ms/step - loss: 0.0151 - lr: 1.0000e-08\n",
            "Epoch 249/400\n",
            "7/7 [==============================] - 0s 11ms/step - loss: 0.0153 - lr: 1.0000e-08\n",
            "Epoch 250/400\n",
            "7/7 [==============================] - 0s 10ms/step - loss: 0.0151 - lr: 1.0000e-08\n",
            "Epoch 251/400\n",
            "7/7 [==============================] - 0s 10ms/step - loss: 0.0152 - lr: 1.0000e-08\n",
            "Epoch 252/400\n",
            "7/7 [==============================] - 0s 10ms/step - loss: 0.0150 - lr: 1.0000e-08\n",
            "Epoch 253/400\n",
            "7/7 [==============================] - 0s 10ms/step - loss: 0.0151 - lr: 1.0000e-08\n",
            "Epoch 254/400\n",
            "7/7 [==============================] - 0s 10ms/step - loss: 0.0149 - lr: 1.0000e-08\n",
            "Epoch 255/400\n",
            "7/7 [==============================] - 0s 11ms/step - loss: 0.0152 - lr: 1.0000e-08\n",
            "Epoch 256/400\n",
            "7/7 [==============================] - 0s 10ms/step - loss: 0.0153 - lr: 1.0000e-08\n",
            "Epoch 257/400\n",
            "7/7 [==============================] - 0s 10ms/step - loss: 0.0152 - lr: 1.0000e-08\n",
            "Epoch 258/400\n",
            "7/7 [==============================] - 0s 10ms/step - loss: 0.0151 - lr: 1.0000e-08\n",
            "Epoch 259/400\n",
            "7/7 [==============================] - 0s 10ms/step - loss: 0.0153 - lr: 1.0000e-08\n",
            "Epoch 260/400\n",
            "7/7 [==============================] - 0s 11ms/step - loss: 0.0154 - lr: 1.0000e-08\n",
            "Epoch 261/400\n",
            "7/7 [==============================] - 0s 10ms/step - loss: 0.0150 - lr: 1.0000e-08\n",
            "Epoch 262/400\n",
            "7/7 [==============================] - 0s 11ms/step - loss: 0.0153 - lr: 1.0000e-08\n",
            "Epoch 263/400\n",
            "7/7 [==============================] - 0s 11ms/step - loss: 0.0151 - lr: 1.0000e-08\n",
            "Epoch 264/400\n",
            "7/7 [==============================] - 0s 10ms/step - loss: 0.0150 - lr: 1.0000e-08\n",
            "Epoch 265/400\n",
            "7/7 [==============================] - 0s 10ms/step - loss: 0.0151 - lr: 1.0000e-08\n",
            "Epoch 266/400\n",
            "7/7 [==============================] - 0s 11ms/step - loss: 0.0150 - lr: 1.0000e-08\n",
            "Epoch 267/400\n",
            "7/7 [==============================] - 0s 11ms/step - loss: 0.0152 - lr: 1.0000e-08\n",
            "Epoch 268/400\n",
            "7/7 [==============================] - 0s 11ms/step - loss: 0.0150 - lr: 1.0000e-08\n",
            "Epoch 269/400\n",
            "7/7 [==============================] - 0s 11ms/step - loss: 0.0149 - lr: 1.0000e-08\n",
            "Epoch 270/400\n",
            "7/7 [==============================] - 0s 10ms/step - loss: 0.0151 - lr: 1.0000e-08\n",
            "Epoch 271/400\n",
            "7/7 [==============================] - 0s 11ms/step - loss: 0.0150 - lr: 1.0000e-08\n",
            "Epoch 272/400\n",
            "7/7 [==============================] - 0s 11ms/step - loss: 0.0150 - lr: 1.0000e-08\n",
            "Epoch 273/400\n",
            "7/7 [==============================] - 0s 11ms/step - loss: 0.0148 - lr: 1.0000e-08\n",
            "Epoch 274/400\n",
            "7/7 [==============================] - 0s 11ms/step - loss: 0.0147 - lr: 1.0000e-08\n",
            "Epoch 275/400\n",
            "7/7 [==============================] - 0s 10ms/step - loss: 0.0151 - lr: 1.0000e-08\n",
            "Epoch 276/400\n",
            "7/7 [==============================] - 0s 10ms/step - loss: 0.0148 - lr: 1.0000e-08\n",
            "Epoch 277/400\n",
            "7/7 [==============================] - 0s 11ms/step - loss: 0.0150 - lr: 1.0000e-08\n",
            "Epoch 278/400\n",
            "7/7 [==============================] - 0s 11ms/step - loss: 0.0150 - lr: 1.0000e-08\n",
            "Epoch 279/400\n",
            "7/7 [==============================] - 0s 12ms/step - loss: 0.0151 - lr: 1.0000e-08\n",
            "Epoch 280/400\n",
            "7/7 [==============================] - 0s 10ms/step - loss: 0.0151 - lr: 1.0000e-08\n",
            "Epoch 281/400\n",
            "7/7 [==============================] - 0s 10ms/step - loss: 0.0152 - lr: 1.0000e-08\n",
            "Epoch 282/400\n",
            "7/7 [==============================] - 0s 10ms/step - loss: 0.0151 - lr: 1.0000e-08\n",
            "Epoch 283/400\n",
            "7/7 [==============================] - 0s 12ms/step - loss: 0.0151 - lr: 1.0000e-08\n",
            "Epoch 284/400\n",
            "7/7 [==============================] - 0s 11ms/step - loss: 0.0149 - lr: 1.0000e-08\n",
            "Epoch 285/400\n",
            "7/7 [==============================] - 0s 10ms/step - loss: 0.0151 - lr: 1.0000e-08\n",
            "Epoch 286/400\n",
            "7/7 [==============================] - 0s 11ms/step - loss: 0.0152 - lr: 1.0000e-08\n",
            "Epoch 287/400\n",
            "7/7 [==============================] - 0s 10ms/step - loss: 0.0151 - lr: 1.0000e-08\n",
            "Epoch 288/400\n",
            "7/7 [==============================] - 0s 11ms/step - loss: 0.0151 - lr: 1.0000e-08\n",
            "Epoch 289/400\n",
            "7/7 [==============================] - 0s 11ms/step - loss: 0.0151 - lr: 1.0000e-08\n",
            "Epoch 290/400\n",
            "7/7 [==============================] - 0s 11ms/step - loss: 0.0152 - lr: 1.0000e-08\n",
            "Epoch 291/400\n",
            "7/7 [==============================] - 0s 14ms/step - loss: 0.0149 - lr: 1.0000e-08\n",
            "Epoch 292/400\n",
            "7/7 [==============================] - 0s 10ms/step - loss: 0.0153 - lr: 1.0000e-08\n",
            "Epoch 293/400\n",
            "7/7 [==============================] - 0s 10ms/step - loss: 0.0152 - lr: 1.0000e-08\n",
            "Epoch 294/400\n",
            "7/7 [==============================] - 0s 10ms/step - loss: 0.0152 - lr: 1.0000e-08\n",
            "Epoch 295/400\n",
            "7/7 [==============================] - 0s 11ms/step - loss: 0.0152 - lr: 1.0000e-08\n",
            "Epoch 296/400\n",
            "7/7 [==============================] - 0s 11ms/step - loss: 0.0154 - lr: 1.0000e-08\n",
            "Epoch 297/400\n",
            "7/7 [==============================] - 0s 11ms/step - loss: 0.0149 - lr: 1.0000e-08\n",
            "Epoch 298/400\n",
            "7/7 [==============================] - 0s 11ms/step - loss: 0.0152 - lr: 1.0000e-08\n",
            "Epoch 299/400\n",
            "7/7 [==============================] - 0s 10ms/step - loss: 0.0151 - lr: 1.0000e-08\n",
            "Epoch 300/400\n",
            "7/7 [==============================] - 0s 9ms/step - loss: 0.0151 - lr: 1.0000e-08\n",
            "Epoch 301/400\n",
            "7/7 [==============================] - 0s 11ms/step - loss: 0.0152 - lr: 1.0000e-08\n",
            "Epoch 302/400\n",
            "7/7 [==============================] - 0s 11ms/step - loss: 0.0151 - lr: 1.0000e-08\n",
            "Epoch 303/400\n",
            "7/7 [==============================] - 0s 12ms/step - loss: 0.0150 - lr: 1.0000e-08\n",
            "Epoch 304/400\n",
            "7/7 [==============================] - 0s 10ms/step - loss: 0.0149 - lr: 1.0000e-08\n",
            "Epoch 305/400\n",
            "7/7 [==============================] - 0s 10ms/step - loss: 0.0150 - lr: 1.0000e-08\n",
            "Epoch 306/400\n",
            "7/7 [==============================] - 0s 10ms/step - loss: 0.0150 - lr: 1.0000e-08\n",
            "Epoch 307/400\n",
            "7/7 [==============================] - 0s 10ms/step - loss: 0.0150 - lr: 1.0000e-08\n",
            "Epoch 308/400\n",
            "7/7 [==============================] - 0s 11ms/step - loss: 0.0149 - lr: 1.0000e-08\n",
            "Epoch 309/400\n",
            "7/7 [==============================] - 0s 12ms/step - loss: 0.0153 - lr: 1.0000e-08\n",
            "Epoch 310/400\n",
            "7/7 [==============================] - 0s 14ms/step - loss: 0.0152 - lr: 1.0000e-08\n",
            "Epoch 311/400\n",
            "7/7 [==============================] - 0s 16ms/step - loss: 0.0153 - lr: 1.0000e-08\n",
            "Epoch 312/400\n",
            "7/7 [==============================] - 0s 13ms/step - loss: 0.0154 - lr: 1.0000e-08\n",
            "Epoch 313/400\n",
            "7/7 [==============================] - 0s 11ms/step - loss: 0.0149 - lr: 1.0000e-08\n",
            "Epoch 314/400\n",
            "7/7 [==============================] - 0s 13ms/step - loss: 0.0151 - lr: 1.0000e-08\n",
            "Epoch 315/400\n",
            "7/7 [==============================] - 0s 14ms/step - loss: 0.0150 - lr: 1.0000e-08\n",
            "Epoch 316/400\n",
            "7/7 [==============================] - 0s 13ms/step - loss: 0.0148 - lr: 1.0000e-08\n",
            "Epoch 317/400\n",
            "7/7 [==============================] - 0s 13ms/step - loss: 0.0151 - lr: 1.0000e-08\n",
            "Epoch 318/400\n",
            "7/7 [==============================] - 0s 11ms/step - loss: 0.0152 - lr: 1.0000e-08\n",
            "Epoch 319/400\n",
            "7/7 [==============================] - 0s 14ms/step - loss: 0.0149 - lr: 1.0000e-08\n",
            "Epoch 320/400\n",
            "7/7 [==============================] - 0s 14ms/step - loss: 0.0150 - lr: 1.0000e-08\n",
            "Epoch 321/400\n",
            "7/7 [==============================] - 0s 13ms/step - loss: 0.0152 - lr: 1.0000e-08\n",
            "Epoch 322/400\n",
            "7/7 [==============================] - 0s 13ms/step - loss: 0.0152 - lr: 1.0000e-08\n",
            "Epoch 323/400\n",
            "7/7 [==============================] - 0s 14ms/step - loss: 0.0149 - lr: 1.0000e-08\n",
            "Epoch 324/400\n",
            "7/7 [==============================] - 0s 14ms/step - loss: 0.0151 - lr: 1.0000e-08\n",
            "Epoch 325/400\n",
            "7/7 [==============================] - 0s 15ms/step - loss: 0.0148 - lr: 1.0000e-08\n",
            "Epoch 326/400\n",
            "7/7 [==============================] - 0s 13ms/step - loss: 0.0150 - lr: 1.0000e-08\n",
            "Epoch 327/400\n",
            "7/7 [==============================] - 0s 14ms/step - loss: 0.0152 - lr: 1.0000e-08\n",
            "Epoch 328/400\n",
            "7/7 [==============================] - 0s 14ms/step - loss: 0.0153 - lr: 1.0000e-08\n",
            "Epoch 329/400\n",
            "7/7 [==============================] - 0s 15ms/step - loss: 0.0149 - lr: 1.0000e-08\n",
            "Epoch 330/400\n",
            "7/7 [==============================] - 0s 16ms/step - loss: 0.0150 - lr: 1.0000e-08\n",
            "Epoch 331/400\n",
            "7/7 [==============================] - 0s 13ms/step - loss: 0.0149 - lr: 1.0000e-08\n",
            "Epoch 332/400\n",
            "7/7 [==============================] - 0s 13ms/step - loss: 0.0151 - lr: 1.0000e-08\n",
            "Epoch 333/400\n",
            "7/7 [==============================] - 0s 13ms/step - loss: 0.0150 - lr: 1.0000e-08\n",
            "Epoch 334/400\n",
            "7/7 [==============================] - 0s 14ms/step - loss: 0.0148 - lr: 1.0000e-08\n",
            "Epoch 335/400\n",
            "7/7 [==============================] - 0s 15ms/step - loss: 0.0151 - lr: 1.0000e-08\n",
            "Epoch 336/400\n",
            "7/7 [==============================] - 0s 15ms/step - loss: 0.0150 - lr: 1.0000e-08\n",
            "Epoch 337/400\n",
            "7/7 [==============================] - 0s 11ms/step - loss: 0.0152 - lr: 1.0000e-08\n",
            "Epoch 338/400\n",
            "7/7 [==============================] - 0s 13ms/step - loss: 0.0149 - lr: 1.0000e-08\n",
            "Epoch 339/400\n",
            "7/7 [==============================] - 0s 12ms/step - loss: 0.0150 - lr: 1.0000e-08\n",
            "Epoch 340/400\n",
            "7/7 [==============================] - 0s 12ms/step - loss: 0.0153 - lr: 1.0000e-08\n",
            "Epoch 341/400\n",
            "7/7 [==============================] - 0s 12ms/step - loss: 0.0149 - lr: 1.0000e-08\n",
            "Epoch 342/400\n",
            "7/7 [==============================] - 0s 11ms/step - loss: 0.0150 - lr: 1.0000e-08\n",
            "Epoch 343/400\n",
            "7/7 [==============================] - 0s 12ms/step - loss: 0.0150 - lr: 1.0000e-08\n",
            "Epoch 344/400\n",
            "7/7 [==============================] - 0s 14ms/step - loss: 0.0154 - lr: 1.0000e-08\n",
            "Epoch 345/400\n",
            "7/7 [==============================] - 0s 17ms/step - loss: 0.0150 - lr: 1.0000e-08\n",
            "Epoch 346/400\n",
            "7/7 [==============================] - 0s 15ms/step - loss: 0.0151 - lr: 1.0000e-08\n",
            "Epoch 347/400\n",
            "7/7 [==============================] - 0s 14ms/step - loss: 0.0150 - lr: 1.0000e-08\n",
            "Epoch 348/400\n",
            "7/7 [==============================] - 0s 15ms/step - loss: 0.0149 - lr: 1.0000e-08\n",
            "Epoch 349/400\n",
            "7/7 [==============================] - 0s 14ms/step - loss: 0.0151 - lr: 1.0000e-08\n",
            "Epoch 350/400\n",
            "7/7 [==============================] - 0s 14ms/step - loss: 0.0153 - lr: 1.0000e-08\n",
            "Epoch 351/400\n",
            "7/7 [==============================] - 0s 14ms/step - loss: 0.0150 - lr: 1.0000e-08\n",
            "Epoch 352/400\n",
            "7/7 [==============================] - 0s 15ms/step - loss: 0.0151 - lr: 1.0000e-08\n",
            "Epoch 353/400\n",
            "7/7 [==============================] - 0s 13ms/step - loss: 0.0149 - lr: 1.0000e-08\n",
            "Epoch 354/400\n",
            "7/7 [==============================] - 0s 11ms/step - loss: 0.0149 - lr: 1.0000e-08\n",
            "Epoch 355/400\n",
            "7/7 [==============================] - 0s 10ms/step - loss: 0.0150 - lr: 1.0000e-08\n",
            "Epoch 356/400\n",
            "7/7 [==============================] - 0s 11ms/step - loss: 0.0150 - lr: 1.0000e-08\n",
            "Epoch 357/400\n",
            "7/7 [==============================] - 0s 11ms/step - loss: 0.0148 - lr: 1.0000e-08\n",
            "Epoch 358/400\n",
            "7/7 [==============================] - 0s 12ms/step - loss: 0.0150 - lr: 1.0000e-08\n",
            "Epoch 359/400\n",
            "7/7 [==============================] - 0s 12ms/step - loss: 0.0151 - lr: 1.0000e-08\n",
            "Epoch 360/400\n",
            "7/7 [==============================] - 0s 11ms/step - loss: 0.0149 - lr: 1.0000e-08\n",
            "Epoch 361/400\n",
            "7/7 [==============================] - 0s 10ms/step - loss: 0.0151 - lr: 1.0000e-08\n",
            "Epoch 362/400\n",
            "7/7 [==============================] - 0s 10ms/step - loss: 0.0151 - lr: 1.0000e-08\n",
            "Epoch 363/400\n",
            "7/7 [==============================] - 0s 11ms/step - loss: 0.0149 - lr: 1.0000e-08\n",
            "Epoch 364/400\n",
            "7/7 [==============================] - 0s 10ms/step - loss: 0.0153 - lr: 1.0000e-08\n",
            "Epoch 365/400\n",
            "7/7 [==============================] - 0s 11ms/step - loss: 0.0149 - lr: 1.0000e-08\n",
            "Epoch 366/400\n",
            "7/7 [==============================] - 0s 11ms/step - loss: 0.0149 - lr: 1.0000e-08\n",
            "Epoch 367/400\n",
            "7/7 [==============================] - 0s 11ms/step - loss: 0.0153 - lr: 1.0000e-08\n",
            "Epoch 368/400\n",
            "7/7 [==============================] - 0s 12ms/step - loss: 0.0151 - lr: 1.0000e-08\n",
            "Epoch 369/400\n",
            "7/7 [==============================] - 0s 12ms/step - loss: 0.0152 - lr: 1.0000e-08\n",
            "Epoch 370/400\n",
            "7/7 [==============================] - 0s 11ms/step - loss: 0.0149 - lr: 1.0000e-08\n",
            "Epoch 371/400\n",
            "7/7 [==============================] - 0s 12ms/step - loss: 0.0150 - lr: 1.0000e-08\n",
            "Epoch 372/400\n",
            "7/7 [==============================] - 0s 12ms/step - loss: 0.0150 - lr: 1.0000e-08\n",
            "Epoch 373/400\n",
            "7/7 [==============================] - 0s 10ms/step - loss: 0.0149 - lr: 1.0000e-08\n",
            "Epoch 374/400\n",
            "7/7 [==============================] - 0s 10ms/step - loss: 0.0152 - lr: 1.0000e-08\n",
            "Epoch 375/400\n",
            "7/7 [==============================] - 0s 10ms/step - loss: 0.0150 - lr: 1.0000e-08\n",
            "Epoch 376/400\n",
            "7/7 [==============================] - 0s 10ms/step - loss: 0.0150 - lr: 1.0000e-08\n",
            "Epoch 377/400\n",
            "7/7 [==============================] - 0s 12ms/step - loss: 0.0150 - lr: 1.0000e-08\n",
            "Epoch 378/400\n",
            "7/7 [==============================] - 0s 10ms/step - loss: 0.0149 - lr: 1.0000e-08\n",
            "Epoch 379/400\n",
            "7/7 [==============================] - 0s 9ms/step - loss: 0.0151 - lr: 1.0000e-08\n",
            "Epoch 380/400\n",
            "7/7 [==============================] - 0s 11ms/step - loss: 0.0153 - lr: 1.0000e-08\n",
            "Epoch 381/400\n",
            "7/7 [==============================] - 0s 11ms/step - loss: 0.0151 - lr: 1.0000e-08\n",
            "Epoch 382/400\n",
            "7/7 [==============================] - 0s 10ms/step - loss: 0.0150 - lr: 1.0000e-08\n",
            "Epoch 383/400\n",
            "7/7 [==============================] - 0s 10ms/step - loss: 0.0149 - lr: 1.0000e-08\n",
            "Epoch 384/400\n",
            "7/7 [==============================] - 0s 12ms/step - loss: 0.0150 - lr: 1.0000e-08\n",
            "Epoch 385/400\n",
            "7/7 [==============================] - 0s 11ms/step - loss: 0.0149 - lr: 1.0000e-08\n",
            "Epoch 386/400\n",
            "7/7 [==============================] - 0s 11ms/step - loss: 0.0150 - lr: 1.0000e-08\n",
            "Epoch 387/400\n",
            "7/7 [==============================] - 0s 11ms/step - loss: 0.0149 - lr: 1.0000e-08\n",
            "Epoch 388/400\n",
            "7/7 [==============================] - 0s 9ms/step - loss: 0.0152 - lr: 1.0000e-08\n",
            "Epoch 389/400\n",
            "7/7 [==============================] - 0s 11ms/step - loss: 0.0152 - lr: 1.0000e-08\n",
            "Epoch 390/400\n",
            "7/7 [==============================] - 0s 11ms/step - loss: 0.0151 - lr: 1.0000e-08\n",
            "Epoch 391/400\n",
            "7/7 [==============================] - 0s 10ms/step - loss: 0.0151 - lr: 1.0000e-08\n",
            "Epoch 392/400\n",
            "7/7 [==============================] - 0s 10ms/step - loss: 0.0149 - lr: 1.0000e-08\n",
            "Epoch 393/400\n",
            "7/7 [==============================] - 0s 9ms/step - loss: 0.0152 - lr: 1.0000e-08\n",
            "Epoch 394/400\n",
            "7/7 [==============================] - 0s 9ms/step - loss: 0.0152 - lr: 1.0000e-08\n",
            "Epoch 395/400\n",
            "7/7 [==============================] - 0s 11ms/step - loss: 0.0148 - lr: 1.0000e-08\n",
            "Epoch 396/400\n",
            "7/7 [==============================] - 0s 10ms/step - loss: 0.0150 - lr: 1.0000e-08\n",
            "Epoch 397/400\n",
            "7/7 [==============================] - 0s 9ms/step - loss: 0.0149 - lr: 1.0000e-08\n",
            "Epoch 398/400\n",
            "7/7 [==============================] - 0s 11ms/step - loss: 0.0149 - lr: 1.0000e-08\n",
            "Epoch 399/400\n",
            "7/7 [==============================] - 0s 12ms/step - loss: 0.0149 - lr: 1.0000e-08\n",
            "Epoch 400/400\n",
            "7/7 [==============================] - 0s 9ms/step - loss: 0.0151 - lr: 1.0000e-08\n"
          ]
        }
      ],
      "source": [
        "hist = autoencoder.fit(pca_train, pca_train, \n",
        "                 epochs=EPOCHS,\n",
        "                 batch_size=BATCH,\n",
        "                 callbacks=[reduce_lr],\n",
        "                 shuffle=True)"
      ]
    },
    {
      "cell_type": "markdown",
      "metadata": {
        "id": "XxaqfZvCel42"
      },
      "source": [
        "### Predict 예측"
      ]
    },
    {
      "cell_type": "code",
      "execution_count": 116,
      "metadata": {
        "colab": {
          "base_uri": "https://localhost:8080/"
        },
        "id": "lTWuPx8RGVap",
        "outputId": "a75055c1-9dcf-4756-e01b-bf33fc15fdee"
      },
      "outputs": [
        {
          "output_type": "stream",
          "name": "stdout",
          "text": [
            "890/890 [==============================] - 2s 2ms/step\n"
          ]
        }
      ],
      "source": [
        "val_y_pred = autoencoder.predict(pca_val_x)"
      ]
    },
    {
      "cell_type": "markdown",
      "metadata": {
        "id": "4dbMJ0Rweu8R"
      },
      "source": [
        "#### 예측값 코사인유사도 계산"
      ]
    },
    {
      "cell_type": "code",
      "execution_count": 117,
      "metadata": {
        "id": "b9KKxIUMO46d"
      },
      "outputs": [],
      "source": [
        "from numpy import dot\n",
        "from numpy.linalg import norm\n",
        "\n",
        "def cos_sim(A, B):\n",
        "  return dot(A, B)/(norm(A)*norm(B))"
      ]
    },
    {
      "cell_type": "code",
      "execution_count": 118,
      "metadata": {
        "id": "Pyuw-3vvPu09"
      },
      "outputs": [],
      "source": [
        "def cosine_similarity(true, pred):\n",
        "  diff = []\n",
        "  for i in range(len(true)):\n",
        "    diff.append(cos_sim(true.iloc[i,:], pred[i]))\n",
        "  diff = pd.Series(diff)\n",
        "  return np.array(diff)"
      ]
    },
    {
      "cell_type": "markdown",
      "metadata": {
        "id": "X3tg0YPjey5o"
      },
      "source": [
        "#### 예측 라벨링"
      ]
    },
    {
      "cell_type": "code",
      "execution_count": 119,
      "metadata": {
        "id": "PCcO2S-kPjks"
      },
      "outputs": [],
      "source": [
        "val_AE_pred = np.where(cosine_similarity(pca_val_x, val_y_pred)>0.966, 0, 1)"
      ]
    },
    {
      "cell_type": "code",
      "execution_count": 120,
      "metadata": {
        "colab": {
          "base_uri": "https://localhost:8080/"
        },
        "id": "ZyRkatJMe3WR",
        "outputId": "805fbebd-343d-4a2d-de25-90229e9851b9"
      },
      "outputs": [
        {
          "output_type": "execute_result",
          "data": {
            "text/plain": [
              "Class\n",
              "1        22\n",
              "0         2\n",
              "dtype: int64"
            ]
          },
          "metadata": {},
          "execution_count": 120
        }
      ],
      "source": [
        "pd.DataFrame(val_total_y[val_total_y != val_AE_pred]).value_counts()"
      ]
    },
    {
      "cell_type": "code",
      "execution_count": 121,
      "metadata": {
        "colab": {
          "base_uri": "https://localhost:8080/"
        },
        "id": "tUQ2wLhGT51Z",
        "outputId": "7522ee53-86be-4399-af74-500057a154d7"
      },
      "outputs": [
        {
          "output_type": "stream",
          "name": "stdout",
          "text": [
            "Validation F1 Score : [0.6997890443710006]\n",
            "              precision    recall  f1-score   support\n",
            "\n",
            "           0       1.00      1.00      1.00     28432\n",
            "           1       0.80      0.27      0.40        30\n",
            "\n",
            "    accuracy                           1.00     28462\n",
            "   macro avg       0.90      0.63      0.70     28462\n",
            "weighted avg       1.00      1.00      1.00     28462\n",
            "\n"
          ]
        }
      ],
      "source": [
        "val_AE_score = f1_score(val_total_y, val_AE_pred, average='macro')\n",
        "print(f'Validation F1 Score : [{val_AE_score}]')\n",
        "print(classification_report(val_total_y, val_AE_pred))"
      ]
    },
    {
      "cell_type": "code",
      "execution_count": 80,
      "metadata": {
        "id": "vDYXl0KqC8T1"
      },
      "outputs": [],
      "source": [
        "# (0,0)=>0  | (1,0)=>1  | (0,1)=>0  | (1,1)=>1\n",
        "from collections import Counter\n",
        "\n",
        "def mode (x) :\n",
        "    cnt = Counter(x)\n",
        "    mode = cnt.most_common(1)\n",
        "    return mode[0][0]"
      ]
    },
    {
      "cell_type": "code",
      "source": [
        "def get_ensemble_pred(test):\n",
        "  # AE\n",
        "  print('AE_model')\n",
        "  test_AE_pred = autoencoder.predict(test)\n",
        "  test_AE_pred = np.where(cosine_similarity(test, test_AE_pred)>0.966, 0, 1)\n",
        "\n",
        "  # pred EE\n",
        "  print('EE_model')\n",
        "  test_EE_pred = EE_model.predict(test)\n",
        "  test_EE_pred = get_pred_label(test_EE_pred)\n",
        "\n",
        "  preds = pd.DataFrame(zip(test_EE_pred, test_AE_pred))\n",
        "  preds.columns = ['pred_EE', 'pred_AE']\n",
        "  \n",
        "  return preds, preds.apply(mode,axis = 1)"
      ],
      "metadata": {
        "id": "B6HmNJweT7yb"
      },
      "execution_count": 90,
      "outputs": []
    },
    {
      "cell_type": "code",
      "source": [
        "test_pred = get_ensemble_pred(pca_test)[1]"
      ],
      "metadata": {
        "colab": {
          "base_uri": "https://localhost:8080/"
        },
        "id": "t7VoG_lZgzv5",
        "outputId": "7daaaeb2-7450-4137-a5cf-12e3ee5ceadb"
      },
      "execution_count": 91,
      "outputs": [
        {
          "output_type": "stream",
          "name": "stdout",
          "text": [
            "AE_model\n",
            "4454/4454 [==============================] - 9s 2ms/step\n",
            "EE_model\n"
          ]
        }
      ]
    },
    {
      "cell_type": "code",
      "source": [
        "test_pred.value_counts()"
      ],
      "metadata": {
        "colab": {
          "base_uri": "https://localhost:8080/"
        },
        "id": "cLijR0tni0Bf",
        "outputId": "4d1bd37f-0091-4698-d899-770331b86ef7"
      },
      "execution_count": 92,
      "outputs": [
        {
          "output_type": "execute_result",
          "data": {
            "text/plain": [
              "0    142333\n",
              "1       170\n",
              "dtype: int64"
            ]
          },
          "metadata": {},
          "execution_count": 92
        }
      ]
    },
    {
      "cell_type": "code",
      "source": [
        "val_pred = get_ensemble_pred(pca_val_x)[1]"
      ],
      "metadata": {
        "colab": {
          "base_uri": "https://localhost:8080/"
        },
        "id": "ghGM55d2sfoZ",
        "outputId": "62bf5985-07ac-4b5d-fdef-8c7b2581c948"
      },
      "execution_count": 93,
      "outputs": [
        {
          "output_type": "stream",
          "name": "stdout",
          "text": [
            "AE_model\n",
            "890/890 [==============================] - 2s 2ms/step\n",
            "EE_model\n"
          ]
        }
      ]
    },
    {
      "cell_type": "code",
      "source": [
        "pd.DataFrame(val_total_y[val_total_y != val_EE_pred]).value_counts()"
      ],
      "metadata": {
        "colab": {
          "base_uri": "https://localhost:8080/"
        },
        "id": "t2AOazRmkRyy",
        "outputId": "6a5ffd25-0758-49e6-a40f-2981fa192273"
      },
      "execution_count": 94,
      "outputs": [
        {
          "output_type": "execute_result",
          "data": {
            "text/plain": [
              "Class\n",
              "0        28\n",
              "1        28\n",
              "dtype: int64"
            ]
          },
          "metadata": {},
          "execution_count": 94
        }
      ]
    },
    {
      "cell_type": "code",
      "source": [
        "pd.DataFrame(val_total_y[val_total_y != val_pred]).value_counts()"
      ],
      "metadata": {
        "colab": {
          "base_uri": "https://localhost:8080/"
        },
        "id": "x6-wyu4Nsj-w",
        "outputId": "f2d9b3f7-015a-442c-bd73-d2db2fd57123"
      },
      "execution_count": 95,
      "outputs": [
        {
          "output_type": "execute_result",
          "data": {
            "text/plain": [
              "Class\n",
              "0        28\n",
              "1        28\n",
              "dtype: int64"
            ]
          },
          "metadata": {},
          "execution_count": 95
        }
      ]
    },
    {
      "cell_type": "code",
      "source": [
        "val_score = f1_score(val_total_y, val_pred, average='macro')\n",
        "print(f'Validation F1 Score : [{val_score}]')\n",
        "print(classification_report(val_total_y, val_pred))"
      ],
      "metadata": {
        "colab": {
          "base_uri": "https://localhost:8080/"
        },
        "id": "NgQaDa36i8yx",
        "outputId": "eacee647-7a1b-444a-f5d8-454104f8d3d2"
      },
      "execution_count": 96,
      "outputs": [
        {
          "output_type": "stream",
          "name": "stdout",
          "text": [
            "Validation F1 Score : [0.5328409304070532]\n",
            "              precision    recall  f1-score   support\n",
            "\n",
            "           0       1.00      1.00      1.00     28432\n",
            "           1       0.07      0.07      0.07        30\n",
            "\n",
            "    accuracy                           1.00     28462\n",
            "   macro avg       0.53      0.53      0.53     28462\n",
            "weighted avg       1.00      1.00      1.00     28462\n",
            "\n"
          ]
        }
      ]
    }
  ],
  "metadata": {
    "accelerator": "GPU",
    "colab": {
      "provenance": []
    },
    "gpuClass": "standard",
    "kernelspec": {
      "display_name": "Python 3",
      "name": "python3"
    },
    "language_info": {
      "name": "python"
    }
  },
  "nbformat": 4,
  "nbformat_minor": 0
}