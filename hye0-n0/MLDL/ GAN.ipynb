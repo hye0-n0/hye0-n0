{
  "nbformat": 4,
  "nbformat_minor": 0,
  "metadata": {
    "colab": {
      "provenance": [],
      "authorship_tag": "ABX9TyNQzxqANmsBqe80qUBT4IKd",
      "include_colab_link": true
    },
    "kernelspec": {
      "name": "python3",
      "display_name": "Python 3"
    },
    "language_info": {
      "name": "python"
    },
    "accelerator": "GPU",
    "gpuClass": "standard",
    "widgets": {
      "application/vnd.jupyter.widget-state+json": {
        "a342d65af4aa4062a8b2ab404f4dbac1": {
          "model_module": "@jupyter-widgets/controls",
          "model_name": "HBoxModel",
          "model_module_version": "1.5.0",
          "state": {
            "_dom_classes": [],
            "_model_module": "@jupyter-widgets/controls",
            "_model_module_version": "1.5.0",
            "_model_name": "HBoxModel",
            "_view_count": null,
            "_view_module": "@jupyter-widgets/controls",
            "_view_module_version": "1.5.0",
            "_view_name": "HBoxView",
            "box_style": "",
            "children": [
              "IPY_MODEL_a429e80db1884309a5a3edc0001f0a78",
              "IPY_MODEL_f2dbb224603f4b74a2b1c75effd8b3a3",
              "IPY_MODEL_b3d0a18f16fa44d597fad5d3cb013ec1"
            ],
            "layout": "IPY_MODEL_ba43be6de9bc4843b5b05d3aad60f2d7"
          }
        },
        "a429e80db1884309a5a3edc0001f0a78": {
          "model_module": "@jupyter-widgets/controls",
          "model_name": "HTMLModel",
          "model_module_version": "1.5.0",
          "state": {
            "_dom_classes": [],
            "_model_module": "@jupyter-widgets/controls",
            "_model_module_version": "1.5.0",
            "_model_name": "HTMLModel",
            "_view_count": null,
            "_view_module": "@jupyter-widgets/controls",
            "_view_module_version": "1.5.0",
            "_view_name": "HTMLView",
            "description": "",
            "description_tooltip": null,
            "layout": "IPY_MODEL_1c5708af85a448e0b0c108639ee3d7d9",
            "placeholder": "​",
            "style": "IPY_MODEL_cf0dd010eee14c80b021d95f0ba4c159",
            "value": "Dl Completed...: 100%"
          }
        },
        "f2dbb224603f4b74a2b1c75effd8b3a3": {
          "model_module": "@jupyter-widgets/controls",
          "model_name": "FloatProgressModel",
          "model_module_version": "1.5.0",
          "state": {
            "_dom_classes": [],
            "_model_module": "@jupyter-widgets/controls",
            "_model_module_version": "1.5.0",
            "_model_name": "FloatProgressModel",
            "_view_count": null,
            "_view_module": "@jupyter-widgets/controls",
            "_view_module_version": "1.5.0",
            "_view_name": "ProgressView",
            "bar_style": "success",
            "description": "",
            "description_tooltip": null,
            "layout": "IPY_MODEL_d28557f8af0f425abff4d7bcf9449a58",
            "max": 5,
            "min": 0,
            "orientation": "horizontal",
            "style": "IPY_MODEL_a46791d056034366bca7cb5d03d15736",
            "value": 5
          }
        },
        "b3d0a18f16fa44d597fad5d3cb013ec1": {
          "model_module": "@jupyter-widgets/controls",
          "model_name": "HTMLModel",
          "model_module_version": "1.5.0",
          "state": {
            "_dom_classes": [],
            "_model_module": "@jupyter-widgets/controls",
            "_model_module_version": "1.5.0",
            "_model_name": "HTMLModel",
            "_view_count": null,
            "_view_module": "@jupyter-widgets/controls",
            "_view_module_version": "1.5.0",
            "_view_name": "HTMLView",
            "description": "",
            "description_tooltip": null,
            "layout": "IPY_MODEL_a52515bd1b134083baabaea8e342ff25",
            "placeholder": "​",
            "style": "IPY_MODEL_993685b9a216471195e0d9e3ad84ba87",
            "value": " 5/5 [00:00&lt;00:00,  9.20 file/s]"
          }
        },
        "ba43be6de9bc4843b5b05d3aad60f2d7": {
          "model_module": "@jupyter-widgets/base",
          "model_name": "LayoutModel",
          "model_module_version": "1.2.0",
          "state": {
            "_model_module": "@jupyter-widgets/base",
            "_model_module_version": "1.2.0",
            "_model_name": "LayoutModel",
            "_view_count": null,
            "_view_module": "@jupyter-widgets/base",
            "_view_module_version": "1.2.0",
            "_view_name": "LayoutView",
            "align_content": null,
            "align_items": null,
            "align_self": null,
            "border": null,
            "bottom": null,
            "display": null,
            "flex": null,
            "flex_flow": null,
            "grid_area": null,
            "grid_auto_columns": null,
            "grid_auto_flow": null,
            "grid_auto_rows": null,
            "grid_column": null,
            "grid_gap": null,
            "grid_row": null,
            "grid_template_areas": null,
            "grid_template_columns": null,
            "grid_template_rows": null,
            "height": null,
            "justify_content": null,
            "justify_items": null,
            "left": null,
            "margin": null,
            "max_height": null,
            "max_width": null,
            "min_height": null,
            "min_width": null,
            "object_fit": null,
            "object_position": null,
            "order": null,
            "overflow": null,
            "overflow_x": null,
            "overflow_y": null,
            "padding": null,
            "right": null,
            "top": null,
            "visibility": null,
            "width": null
          }
        },
        "1c5708af85a448e0b0c108639ee3d7d9": {
          "model_module": "@jupyter-widgets/base",
          "model_name": "LayoutModel",
          "model_module_version": "1.2.0",
          "state": {
            "_model_module": "@jupyter-widgets/base",
            "_model_module_version": "1.2.0",
            "_model_name": "LayoutModel",
            "_view_count": null,
            "_view_module": "@jupyter-widgets/base",
            "_view_module_version": "1.2.0",
            "_view_name": "LayoutView",
            "align_content": null,
            "align_items": null,
            "align_self": null,
            "border": null,
            "bottom": null,
            "display": null,
            "flex": null,
            "flex_flow": null,
            "grid_area": null,
            "grid_auto_columns": null,
            "grid_auto_flow": null,
            "grid_auto_rows": null,
            "grid_column": null,
            "grid_gap": null,
            "grid_row": null,
            "grid_template_areas": null,
            "grid_template_columns": null,
            "grid_template_rows": null,
            "height": null,
            "justify_content": null,
            "justify_items": null,
            "left": null,
            "margin": null,
            "max_height": null,
            "max_width": null,
            "min_height": null,
            "min_width": null,
            "object_fit": null,
            "object_position": null,
            "order": null,
            "overflow": null,
            "overflow_x": null,
            "overflow_y": null,
            "padding": null,
            "right": null,
            "top": null,
            "visibility": null,
            "width": null
          }
        },
        "cf0dd010eee14c80b021d95f0ba4c159": {
          "model_module": "@jupyter-widgets/controls",
          "model_name": "DescriptionStyleModel",
          "model_module_version": "1.5.0",
          "state": {
            "_model_module": "@jupyter-widgets/controls",
            "_model_module_version": "1.5.0",
            "_model_name": "DescriptionStyleModel",
            "_view_count": null,
            "_view_module": "@jupyter-widgets/base",
            "_view_module_version": "1.2.0",
            "_view_name": "StyleView",
            "description_width": ""
          }
        },
        "d28557f8af0f425abff4d7bcf9449a58": {
          "model_module": "@jupyter-widgets/base",
          "model_name": "LayoutModel",
          "model_module_version": "1.2.0",
          "state": {
            "_model_module": "@jupyter-widgets/base",
            "_model_module_version": "1.2.0",
            "_model_name": "LayoutModel",
            "_view_count": null,
            "_view_module": "@jupyter-widgets/base",
            "_view_module_version": "1.2.0",
            "_view_name": "LayoutView",
            "align_content": null,
            "align_items": null,
            "align_self": null,
            "border": null,
            "bottom": null,
            "display": null,
            "flex": null,
            "flex_flow": null,
            "grid_area": null,
            "grid_auto_columns": null,
            "grid_auto_flow": null,
            "grid_auto_rows": null,
            "grid_column": null,
            "grid_gap": null,
            "grid_row": null,
            "grid_template_areas": null,
            "grid_template_columns": null,
            "grid_template_rows": null,
            "height": null,
            "justify_content": null,
            "justify_items": null,
            "left": null,
            "margin": null,
            "max_height": null,
            "max_width": null,
            "min_height": null,
            "min_width": null,
            "object_fit": null,
            "object_position": null,
            "order": null,
            "overflow": null,
            "overflow_x": null,
            "overflow_y": null,
            "padding": null,
            "right": null,
            "top": null,
            "visibility": null,
            "width": null
          }
        },
        "a46791d056034366bca7cb5d03d15736": {
          "model_module": "@jupyter-widgets/controls",
          "model_name": "ProgressStyleModel",
          "model_module_version": "1.5.0",
          "state": {
            "_model_module": "@jupyter-widgets/controls",
            "_model_module_version": "1.5.0",
            "_model_name": "ProgressStyleModel",
            "_view_count": null,
            "_view_module": "@jupyter-widgets/base",
            "_view_module_version": "1.2.0",
            "_view_name": "StyleView",
            "bar_color": null,
            "description_width": ""
          }
        },
        "a52515bd1b134083baabaea8e342ff25": {
          "model_module": "@jupyter-widgets/base",
          "model_name": "LayoutModel",
          "model_module_version": "1.2.0",
          "state": {
            "_model_module": "@jupyter-widgets/base",
            "_model_module_version": "1.2.0",
            "_model_name": "LayoutModel",
            "_view_count": null,
            "_view_module": "@jupyter-widgets/base",
            "_view_module_version": "1.2.0",
            "_view_name": "LayoutView",
            "align_content": null,
            "align_items": null,
            "align_self": null,
            "border": null,
            "bottom": null,
            "display": null,
            "flex": null,
            "flex_flow": null,
            "grid_area": null,
            "grid_auto_columns": null,
            "grid_auto_flow": null,
            "grid_auto_rows": null,
            "grid_column": null,
            "grid_gap": null,
            "grid_row": null,
            "grid_template_areas": null,
            "grid_template_columns": null,
            "grid_template_rows": null,
            "height": null,
            "justify_content": null,
            "justify_items": null,
            "left": null,
            "margin": null,
            "max_height": null,
            "max_width": null,
            "min_height": null,
            "min_width": null,
            "object_fit": null,
            "object_position": null,
            "order": null,
            "overflow": null,
            "overflow_x": null,
            "overflow_y": null,
            "padding": null,
            "right": null,
            "top": null,
            "visibility": null,
            "width": null
          }
        },
        "993685b9a216471195e0d9e3ad84ba87": {
          "model_module": "@jupyter-widgets/controls",
          "model_name": "DescriptionStyleModel",
          "model_module_version": "1.5.0",
          "state": {
            "_model_module": "@jupyter-widgets/controls",
            "_model_module_version": "1.5.0",
            "_model_name": "DescriptionStyleModel",
            "_view_count": null,
            "_view_module": "@jupyter-widgets/base",
            "_view_module_version": "1.2.0",
            "_view_name": "StyleView",
            "description_width": ""
          }
        }
      }
    }
  },
  "cells": [
    {
      "cell_type": "markdown",
      "metadata": {
        "id": "view-in-github",
        "colab_type": "text"
      },
      "source": [
        "<a href=\"https://colab.research.google.com/github/hye0-n0/hye0-n0/blob/main/hye0-n0/MLDL/%20GAN.ipynb\" target=\"_parent\"><img src=\"https://colab.research.google.com/assets/colab-badge.svg\" alt=\"Open In Colab\"/></a>"
      ]
    },
    {
      "cell_type": "code",
      "execution_count": null,
      "metadata": {
        "colab": {
          "base_uri": "https://localhost:8080/"
        },
        "id": "Cc-zDeFEjypl",
        "outputId": "48c7a654-1d77-465c-9f9e-603f8c0e6416"
      },
      "outputs": [
        {
          "output_type": "stream",
          "name": "stdout",
          "text": [
            "2.9.2\n"
          ]
        }
      ],
      "source": [
        "# 텐서플로 버전, 사용가능한 GPU\n",
        "import tensorflow as tf\n",
        "print(tf.__version__)"
      ]
    },
    {
      "cell_type": "code",
      "source": [
        "print('GPU 여부:', len(tf.config.list_physical_devices('GPU')) > 0)"
      ],
      "metadata": {
        "colab": {
          "base_uri": "https://localhost:8080/"
        },
        "id": "03Iq4LoAkuXw",
        "outputId": "28ca3d99-be60-4552-cec8-a820e2247585"
      },
      "execution_count": null,
      "outputs": [
        {
          "output_type": "stream",
          "name": "stdout",
          "text": [
            "GPU 여부: True\n"
          ]
        }
      ]
    },
    {
      "cell_type": "code",
      "source": [
        "if tf.config.list_physical_devices('GPU'):\n",
        "  device_name = tf.test.gpu_device_name()\n",
        "else:\n",
        "  device_name = '/CPU:0'\n",
        "print(device_name)"
      ],
      "metadata": {
        "colab": {
          "base_uri": "https://localhost:8080/"
        },
        "id": "Uz4uIkI8lQoJ",
        "outputId": "bf00f21a-b1ff-4962-9632-56e404b43267"
      },
      "execution_count": null,
      "outputs": [
        {
          "output_type": "stream",
          "name": "stdout",
          "text": [
            "/device:GPU:0\n"
          ]
        }
      ]
    },
    {
      "cell_type": "markdown",
      "source": [
        "## 생성자, 판별자 신경망 구현\n",
        "### 바닐라 GAN\n",
        "LeakyReLU : 입력 값 전 범위에 걸쳐 그레이디언트가 필요\n",
        "![image](https://camo.githubusercontent.com/e69e2cf20481b01ca68b8636020885c93d17b177892ff9c46a77abd46513f051/68747470733a2f2f6769742e696f2f4a4c415168)\n",
        "-----\n",
        "![image](https://github.com/rickiepark/python-machine-learning-book-3rd-edition/blob/master/ch17/images/17_08.png?raw=true)"
      ],
      "metadata": {
        "id": "jyN0nYsgm8DV"
      }
    },
    {
      "cell_type": "code",
      "source": [
        "import tensorflow as tf\n",
        "import tensorflow_datasets as tfds\n",
        "import numpy as np\n",
        "import matplotlib.pyplot as plt"
      ],
      "metadata": {
        "id": "Y3myP4xellNk"
      },
      "execution_count": null,
      "outputs": []
    },
    {
      "cell_type": "markdown",
      "source": [
        "### 생성자 함수 정의 "
      ],
      "metadata": {
        "id": "zeUs6JWb_X4G"
      }
    },
    {
      "cell_type": "code",
      "source": [
        "def make_generator_network(\n",
        "        num_hidden_layers=1,\n",
        "        num_hidden_units=100,\n",
        "        num_output_units=784):\n",
        "  \n",
        "  model = tf.keras.Sequential()\n",
        "  for i in range(num_hidden_layers):\n",
        "    model.add(tf.keras.layers.Dense(units=num_hidden_units, use_bias=False))\n",
        "    model.add(tf.keras.layers.LeakyReLU())\n",
        "\n",
        "    model.add(tf.keras.layers.Dense(units=num_output_units, activation='tanh'))\n",
        "\n",
        "    return model "
      ],
      "metadata": {
        "id": "z_5CtdEr_WGI"
      },
      "execution_count": null,
      "outputs": []
    },
    {
      "cell_type": "markdown",
      "source": [
        "### 판별자 함수 정의"
      ],
      "metadata": {
        "id": "3wP0un1UB-Cs"
      }
    },
    {
      "cell_type": "code",
      "source": [
        "def make_discriminator_network(\n",
        "        num_hidden_layers=1,\n",
        "        num_hidden_units=100,\n",
        "        num_output_units=1):\n",
        "  model = tf.keras.Sequential()\n",
        "  for i in range(num_hidden_layers):\n",
        "    model.add(tf.keras.layers.Dense(units=num_hidden_units))\n",
        "    model.add(tf.keras.layers.LeakyReLU())\n",
        "    model.add(tf.keras.layers.Dropout(rate=0.5))\n",
        "\n",
        "    model.add(tf.keras.layers.Dense(units=num_output_units, activation=None))\n",
        "\n",
        "    return model"
      ],
      "metadata": {
        "id": "_kJcfLmRBF1S"
      },
      "execution_count": null,
      "outputs": []
    },
    {
      "cell_type": "markdown",
      "source": [
        "### 모델 훈련을 위한 설정"
      ],
      "metadata": {
        "id": "tynufDdLCEgM"
      }
    },
    {
      "cell_type": "code",
      "source": [
        "image_size=(28, 28)\n",
        "z_size = 20\n",
        "mode_z = 'uniform'    #'uniform' vs 'normal'\n",
        "\n",
        "gen_hidden_layers = 1\n",
        "gen_hidden_size = 100\n",
        "disc_hidden_layers = 1\n",
        "disc_hidden_size = 100"
      ],
      "metadata": {
        "id": "ailTOSvACAL5"
      },
      "execution_count": null,
      "outputs": []
    },
    {
      "cell_type": "code",
      "source": [
        "tf.random.set_seed(1)"
      ],
      "metadata": {
        "id": "LznvCa8ACmEc"
      },
      "execution_count": null,
      "outputs": []
    },
    {
      "cell_type": "code",
      "source": [
        "gen_model = make_generator_network(\n",
        "    num_hidden_layers=gen_hidden_layers,\n",
        "    num_hidden_units=gen_hidden_size,\n",
        "    num_output_units=np.prod(image_size))\n",
        "\n",
        "gen_model.build(input_shape=(None, z_size))     # (행, 열, 채널 수)\n",
        "\n",
        "gen_model.summary()"
      ],
      "metadata": {
        "colab": {
          "base_uri": "https://localhost:8080/"
        },
        "id": "NMHjdsKVCoLW",
        "outputId": "9ffdbf31-7f86-42fe-a12d-8857de2bd67b"
      },
      "execution_count": null,
      "outputs": [
        {
          "output_type": "stream",
          "name": "stdout",
          "text": [
            "Model: \"sequential\"\n",
            "_________________________________________________________________\n",
            " Layer (type)                Output Shape              Param #   \n",
            "=================================================================\n",
            " dense (Dense)               (None, 100)               2000      \n",
            "                                                                 \n",
            " leaky_re_lu (LeakyReLU)     (None, 100)               0         \n",
            "                                                                 \n",
            " dense_1 (Dense)             (None, 784)               79184     \n",
            "                                                                 \n",
            "=================================================================\n",
            "Total params: 81,184\n",
            "Trainable params: 81,184\n",
            "Non-trainable params: 0\n",
            "_________________________________________________________________\n"
          ]
        }
      ]
    },
    {
      "cell_type": "code",
      "source": [
        "disc_model = make_discriminator_network(\n",
        "    num_hidden_layers=disc_hidden_layers,\n",
        "    num_hidden_units=disc_hidden_size)\n",
        "\n",
        "disc_model.build(input_shape=(None, np.prod(image_size)))\n",
        "\n",
        "disc_model.summary()"
      ],
      "metadata": {
        "colab": {
          "base_uri": "https://localhost:8080/"
        },
        "id": "I0L4Cc5pEUzX",
        "outputId": "859a64a6-4d62-46c6-fa44-081d55ceb548"
      },
      "execution_count": null,
      "outputs": [
        {
          "output_type": "stream",
          "name": "stdout",
          "text": [
            "Model: \"sequential_1\"\n",
            "_________________________________________________________________\n",
            " Layer (type)                Output Shape              Param #   \n",
            "=================================================================\n",
            " dense_2 (Dense)             (None, 100)               78500     \n",
            "                                                                 \n",
            " leaky_re_lu_1 (LeakyReLU)   (None, 100)               0         \n",
            "                                                                 \n",
            " dropout (Dropout)           (None, 100)               0         \n",
            "                                                                 \n",
            " dense_3 (Dense)             (None, 1)                 101       \n",
            "                                                                 \n",
            "=================================================================\n",
            "Total params: 78,601\n",
            "Trainable params: 78,601\n",
            "Non-trainable params: 0\n",
            "_________________________________________________________________\n"
          ]
        }
      ]
    },
    {
      "cell_type": "markdown",
      "source": [
        "### 훈련 데이터셋 정의\n",
        "합성된 이미지의 픽셀 값 범위 : (-1, 1)   \n",
        "입력 이미지 픽셀 값 범위 : (0, 255) => tf.unit8\n",
        "\n",
        "#### tf.image.convert_image_dtype 함수를 이용\n",
        "1. 입력 이미지 텐서의 dtype :  tf.unit8 -> tf.float32\n",
        "\n",
        "2. 픽셀 강도의 범위 : (0, 1)로 바꿈"
      ],
      "metadata": {
        "id": "u89rEXeHHsGT"
      }
    },
    {
      "cell_type": "markdown",
      "source": [
        "벡터 z : 생성자가 새로운 이미지를 위해 받는 입력\n",
        "이미지 : 판별자의 입력"
      ],
      "metadata": {
        "id": "lCQ7d2NCLq9a"
      }
    },
    {
      "cell_type": "code",
      "source": [
        "mnist_bdlr = tfds.builder('mnist')\n",
        "mnist_bdlr.download_and_prepare()\n",
        "mnist = mnist_bdlr.as_dataset(shuffle_files=False)"
      ],
      "metadata": {
        "colab": {
          "base_uri": "https://localhost:8080/",
          "height": 105,
          "referenced_widgets": [
            "a342d65af4aa4062a8b2ab404f4dbac1",
            "a429e80db1884309a5a3edc0001f0a78",
            "f2dbb224603f4b74a2b1c75effd8b3a3",
            "b3d0a18f16fa44d597fad5d3cb013ec1",
            "ba43be6de9bc4843b5b05d3aad60f2d7",
            "1c5708af85a448e0b0c108639ee3d7d9",
            "cf0dd010eee14c80b021d95f0ba4c159",
            "d28557f8af0f425abff4d7bcf9449a58",
            "a46791d056034366bca7cb5d03d15736",
            "a52515bd1b134083baabaea8e342ff25",
            "993685b9a216471195e0d9e3ad84ba87"
          ]
        },
        "id": "c7-kjGZzDyqB",
        "outputId": "cb0fd6a7-f5bb-4749-e1d7-a9141b2d6f7e"
      },
      "execution_count": null,
      "outputs": [
        {
          "output_type": "stream",
          "name": "stdout",
          "text": [
            "Downloading and preparing dataset 11.06 MiB (download: 11.06 MiB, generated: 21.00 MiB, total: 32.06 MiB) to /root/tensorflow_datasets/mnist/3.0.1...\n"
          ]
        },
        {
          "output_type": "display_data",
          "data": {
            "text/plain": [
              "Dl Completed...:   0%|          | 0/5 [00:00<?, ? file/s]"
            ],
            "application/vnd.jupyter.widget-view+json": {
              "version_major": 2,
              "version_minor": 0,
              "model_id": "a342d65af4aa4062a8b2ab404f4dbac1"
            }
          },
          "metadata": {}
        },
        {
          "output_type": "stream",
          "name": "stdout",
          "text": [
            "Dataset mnist downloaded and prepared to /root/tensorflow_datasets/mnist/3.0.1. Subsequent calls will reuse this data.\n"
          ]
        }
      ]
    },
    {
      "cell_type": "code",
      "source": [
        "def preprocess(ex, mode='uniform'):\n",
        "    image = ex['image']\n",
        "    image = tf.image.convert_image_dtype(image, tf.float32)\n",
        "    image = tf.reshape(image, [-1])   # 1차원의 벡터인 1-D 텐서\n",
        "    image = image*2 - 1.0\n",
        "    if mode == 'uniform':\n",
        "        input_z = tf.random.uniform(\n",
        "            shape=(z_size,), minval=-1.0, maxval=1.0)\n",
        "    elif mode == 'normal':\n",
        "        input_z = tf.random.normal(shape=(z_size,))\n",
        "    return input_z, image"
      ],
      "metadata": {
        "id": "zS931LLSJO5x"
      },
      "execution_count": null,
      "outputs": []
    },
    {
      "cell_type": "code",
      "source": [
        "mnist_trainset = mnist['train']\n",
        "\n",
        "print('전처리 전:  ')\n",
        "example = next(iter(mnist_trainset))['image']\n",
        "print('dtype: ', example.dtype, ' 최소: {} 최대: {}'.format(np.min(example), np.max(example)))\n",
        "\n",
        "mnist_trainset = mnist_trainset.map(preprocess)\n",
        "\n",
        "print('전처리 후:  ')\n",
        "example = next(iter(mnist_trainset))[0]\n",
        "print('dtype: ', example.dtype, ' 최소: {} 최대: {}'.format(np.min(example), np.max(example)))"
      ],
      "metadata": {
        "colab": {
          "base_uri": "https://localhost:8080/"
        },
        "id": "hOIgrUV3K-hF",
        "outputId": "b07949ad-842a-46f7-9d8e-a51e171f0eff"
      },
      "execution_count": null,
      "outputs": [
        {
          "output_type": "stream",
          "name": "stdout",
          "text": [
            "전처리 전:  \n",
            "dtype:  <dtype: 'uint8'>  최소: 0 최대: 255\n",
            "전처리 후:  \n",
            "dtype:  <dtype: 'float32'>  최소: -0.8737728595733643 최대: 0.9460210800170898\n"
          ]
        }
      ]
    },
    {
      "cell_type": "code",
      "source": [
        "# 배치 생성 후 이터레이터 next 호출\n",
        "mnist_trainset = mnist_trainset.batch(32, drop_remainder=True)\n",
        "input_z, input_real = next(iter(mnist_trainset))\n",
        "\n",
        "print('input-z -- 크기:', input_z.shape)\n",
        "print('input-real -- 크기:', input_real.shape)"
      ],
      "metadata": {
        "colab": {
          "base_uri": "https://localhost:8080/"
        },
        "id": "uYzcAwsXLPoN",
        "outputId": "8b848778-0441-4e9b-d66c-048ed040a94b"
      },
      "execution_count": null,
      "outputs": [
        {
          "output_type": "stream",
          "name": "stdout",
          "text": [
            "input-z -- 크기: (32, 20)\n",
            "input-real -- 크기: (32, 784)\n"
          ]
        }
      ]
    },
    {
      "cell_type": "code",
      "source": [
        "g_output = gen_model(input_z)\n",
        "print('생성자 출력 -- 크기:', g_output.shape)"
      ],
      "metadata": {
        "colab": {
          "base_uri": "https://localhost:8080/"
        },
        "id": "Bls462HDDp6J",
        "outputId": "14f65b65-98d6-4025-c9c7-ff5d50df9b18"
      },
      "execution_count": null,
      "outputs": [
        {
          "output_type": "stream",
          "name": "stdout",
          "text": [
            "생성자 출력 -- 크기: (32, 784)\n"
          ]
        }
      ]
    },
    {
      "cell_type": "code",
      "source": [
        "d_logits_real = disc_model(input_real)\n",
        "d_logits_fake = disc_model(g_output)\n",
        "\n",
        "print('판별자 (진짜) -- 크기:', d_logits_real.shape)\n",
        "print('판별자 (가짜) -- 크기:', d_logits_fake.shape)"
      ],
      "metadata": {
        "colab": {
          "base_uri": "https://localhost:8080/"
        },
        "id": "cpcj0RopQA7J",
        "outputId": "19a5be0b-0ee7-4f54-8466-886e57ace332"
      },
      "execution_count": null,
      "outputs": [
        {
          "output_type": "stream",
          "name": "stdout",
          "text": [
            "판별자 (진짜) -- 크기: (32, 1)\n",
            "판별자 (가짜) -- 크기: (32, 1)\n"
          ]
        }
      ]
    },
    {
      "cell_type": "markdown",
      "source": [
        "## GAN 모델 훈련\n",
        "생성자와 판별자 손실 계산을 위해 출력에 대한 정답 레이블 필요\n",
        "* 생성자 : 1로 채워진 벡터(생성된 이미지인 d_logits_fake 크기 동일)\n",
        "* 판별자 : 가짜 샘플 감지, 진짜 샘플 감지하는 두 개의 손실"
      ],
      "metadata": {
        "id": "GYvyylPtQwkN"
      }
    },
    {
      "cell_type": "code",
      "source": [
        "loss_fn = tf.keras.losses.BinaryCrossentropy(from_logits=True)"
      ],
      "metadata": {
        "id": "kj9WJZwgOOjf"
      },
      "execution_count": null,
      "outputs": []
    },
    {
      "cell_type": "code",
      "source": [
        "# 생성자 손실\n",
        "g_labels_real = tf.ones_like(d_logits_fake)\n",
        "g_loss = loss_fn(y_true=g_labels_real, y_pred=d_logits_fake)\n",
        "print('생성자 손실: {:.4f}'.format(g_loss))"
      ],
      "metadata": {
        "colab": {
          "base_uri": "https://localhost:8080/"
        },
        "id": "zQAHEjF8Rx54",
        "outputId": "a4385fbc-c45f-43ef-d8d7-a4705c1756b8"
      },
      "execution_count": null,
      "outputs": [
        {
          "output_type": "stream",
          "name": "stdout",
          "text": [
            "생성자 손실: 0.7355\n"
          ]
        }
      ]
    },
    {
      "cell_type": "code",
      "source": [
        "# 판별자 손실\n",
        "d_labels_real = tf.ones_like(d_logits_real)\n",
        "d_labels_fake = tf.zeros_like(d_logits_fake)\n",
        "\n",
        "d_loss_real = loss_fn(y_true=d_labels_real,\n",
        "                      y_pred=d_logits_real)\n",
        "d_loss_fake = loss_fn(y_true=d_labels_fake,\n",
        "                      y_pred=d_logits_fake)\n",
        "print('판별자 손실: 진짜 {:.4f} , 가짜 {:.4f}'.format(d_loss_real.numpy(), d_loss_fake.numpy()))"
      ],
      "metadata": {
        "colab": {
          "base_uri": "https://localhost:8080/"
        },
        "id": "udPKl6hmaeoG",
        "outputId": "7bee518a-3e94-49c3-a9a7-4e5f3ead27c9"
      },
      "execution_count": null,
      "outputs": [
        {
          "output_type": "stream",
          "name": "stdout",
          "text": [
            "판별자 손실: 진짜 1.5073 , 가짜 0.6583\n"
          ]
        }
      ]
    },
    {
      "cell_type": "markdown",
      "source": [
        "### GAN 모델 생성 후 가중치 최적화"
      ],
      "metadata": {
        "id": "6H9nRvU4da0L"
      }
    },
    {
      "cell_type": "code",
      "source": [
        "import time"
      ],
      "metadata": {
        "id": "I1C8XWr8dG5i"
      },
      "execution_count": null,
      "outputs": []
    },
    {
      "cell_type": "code",
      "source": [
        "num_epochs = 100\n",
        "batch_size = 64\n",
        "image_size = (28, 28)\n",
        "z_size = 20\n",
        "mode_z = 'uniform'\n",
        "\n",
        "gen_hidden_layers = 1\n",
        "gen_hidden_size  = 100\n",
        "disc_hidden_layers = 1\n",
        "disc_hidden_size  = 100"
      ],
      "metadata": {
        "id": "QMKBSgMAd28D"
      },
      "execution_count": null,
      "outputs": []
    },
    {
      "cell_type": "code",
      "source": [
        "tf.random.set_seed(1)\n",
        "np.random.seed(1)"
      ],
      "metadata": {
        "id": "6i3Mns2Gfs0E"
      },
      "execution_count": null,
      "outputs": []
    },
    {
      "cell_type": "code",
      "source": [
        "if mode_z == 'uniform':\n",
        "  fixed_z = tf.random.uniform(shape=(batch_size, z_size), minval=-1, maxval=1)\n",
        "elif mode_z == 'normal':\n",
        "  fixed_z = tf.random.normal(shape=(batch_size, z_size))"
      ],
      "metadata": {
        "id": "_ish-OLFfxk7"
      },
      "execution_count": null,
      "outputs": []
    },
    {
      "cell_type": "code",
      "source": [
        "def create_samples(g_model, input_z):\n",
        "  g_output = g_model(input_z, training=False)\n",
        "  images = tf.reshape(g_output, (batch_size, *image_size))\n",
        "  return (images + 1)/2"
      ],
      "metadata": {
        "id": "HBZeCmBIgUAY"
      },
      "execution_count": null,
      "outputs": []
    },
    {
      "cell_type": "code",
      "source": [
        "# 데이터셋 준비\n",
        "mnist_trainset = mnist['train']\n",
        "mnist_trainset = mnist_trainset.map(\n",
        "    lambda ex: preprocess(ex, mode=mode_z))\n",
        "mnist_trainset = mnist_trainset.shuffle(10000)\n",
        "mnist_trainset = mnist_trainset.batch(batch_size, drop_remainder=True)"
      ],
      "metadata": {
        "id": "Fs2v-Xr0LHe3"
      },
      "execution_count": null,
      "outputs": []
    },
    {
      "cell_type": "code",
      "source": [
        "# 모델 준비\n",
        "with tf.device(device_name):    # GPU 사용\n",
        "  gen_model = make_generator_network(\n",
        "      num_hidden_layers=gen_hidden_layers,\n",
        "      num_hidden_units=gen_hidden_size,\n",
        "      num_output_units=np.prod(image_size))\n",
        "  gen_model.build(input_shape=(None, z_size))\n",
        "\n",
        "  disc_model = make_discriminator_network(\n",
        "      num_hidden_layers=disc_hidden_layers,\n",
        "      num_hidden_units=disc_hidden_size)\n",
        "  disc_model.build(input_shape=(None, np.prod(image_size)))"
      ],
      "metadata": {
        "id": "PxdRQHdaoIOG"
      },
      "execution_count": null,
      "outputs": []
    },
    {
      "cell_type": "code",
      "source": [
        "# 손실함수, 옵티마이저\n",
        "loss_fn = tf.keras.losses.BinaryCrossentropy(from_logits=True)\n",
        "\n",
        "g_optimizer = tf.keras.optimizers.Adam()\n",
        "d_optimizer = tf.keras.optimizers.Adam()\n",
        "\n",
        "all_losses = []\n",
        "all_d_vals = []\n",
        "epoch_samples = []\n",
        "start_time = time.time()\n",
        "\n",
        "for epoch in range(1, num_epochs+1):\n",
        "\n",
        "  epoch_losses, epoch_d_vals = [], []\n",
        "\n",
        "  for i, (input_z, input_real) in enumerate(mnist_trainset):\n",
        "\n",
        "    # 생성자 손실 계산\n",
        "    with tf.GradientTape() as g_tape:\n",
        "      g_output = gen_model(input_z)\n",
        "      d_logits_fake = disc_model(g_output, training=True)\n",
        "      labels_real = tf.ones_like(d_logits_fake)\n",
        "      g_loss = loss_fn(y_true=labels_real, y_pred=d_logits_fake)\n",
        "    \n",
        "    # g_loss의 그레이디언트 계산\n",
        "    g_grads = g_tape.gradient(g_loss, gen_model.trainable_variables)\n",
        "\n",
        "    # 최적화: 그레이디언트 적용\n",
        "    g_optimizer.apply_gradients(grads_and_vars=zip(g_grads, gen_model.trainable_variables))\n",
        "\n",
        "\n",
        "    # 판별자 손실 계산\n",
        "    with tf.GradientTape() as d_tape:\n",
        "      d_logits_real = disc_model(input_real, training=True)\n",
        "\n",
        "      d_labels_real = tf.ones_like(d_logits_real)\n",
        "\n",
        "      d_loss_real = loss_fn(y_true=d_labels_real, y_pred=d_logits_real)\n",
        "\n",
        "      d_logits_fake = disc_model(g_output, training=True)\n",
        "\n",
        "      d_labels_fake = tf.zeros_like(d_logits_fake)\n",
        "\n",
        "      d_loss_fake = loss_fn(y_true=d_labels_fake, y_pred=d_logits_fake)\n",
        "\n",
        "      d_loss = d_loss_real + d_loss_fake\n",
        "\n",
        "    # d_loss의 그레이디언트 계산\n",
        "    d_grads = d_tape.gradient(d_loss, disc_model.trainable_variables)\n",
        "\n",
        "    # 최적화: 그레이디언트 적용\n",
        "    d_optimizer.apply_gradients(grads_and_vars=zip(d_grads, disc_model.trainable_variables))\n",
        "\n",
        "    epoch_losses.append((g_loss.numpy(), d_loss.numpy(), d_loss_real.numpy(), d_loss_fake.numpy()))\n",
        "\n",
        "    d_probs_real = tf.reduce_mean(tf.sigmoid(d_logits_real))\n",
        "\n",
        "    d_probs_fake = tf.reduce_mean(tf.sigmoid(d_logits_fake))\n",
        "\n",
        "    epoch_d_vals.append((d_probs_real.numpy(), d_probs_fake.numpy()))\n",
        "\n",
        "\n",
        "  all_losses.append(epoch_losses)\n",
        "  all_d_vals.append(epoch_d_vals)\n",
        "  print(\n",
        "      '에포크 {:03d} | 시간 {:2f} min | 평균 손실 >>'\n",
        "      '생성자/판별자 {:.4f}/{:.4f} [판별자-진짜: {:.4f}  판별자-가짜: {:.4f}'\n",
        "      .format(epoch, (time.time() - start_time/60), \n",
        "              *list(np.mean(all_losses[-1], axis=0))))\n",
        "  epoch_samples.append(create_samples(gen_model, fixed_z).numpy())"
      ],
      "metadata": {
        "colab": {
          "base_uri": "https://localhost:8080/"
        },
        "id": "wL7F7j1rqVY2",
        "outputId": "6e32890b-573c-49bd-e67a-2997f1e88b74"
      },
      "execution_count": null,
      "outputs": [
        {
          "output_type": "stream",
          "name": "stdout",
          "text": [
            "에포크 001 | 시간 1647760124.259574 min | 평균 손실 >>생성자/판별자 2.8636/0.2891 [판별자-진짜: 0.0333  판별자-가짜: 0.2557\n",
            "에포크 002 | 시간 1647760150.766251 min | 평균 손실 >>생성자/판별자 5.2835/0.3506 [판별자-진짜: 0.1138  판별자-가짜: 0.2368\n",
            "에포크 003 | 시간 1647760178.080704 min | 평균 손실 >>생성자/판별자 3.2450/0.6817 [판별자-진짜: 0.3059  판별자-가짜: 0.3759\n",
            "에포크 004 | 시간 1647760204.416248 min | 평균 손실 >>생성자/판별자 2.1822/0.8143 [판별자-진짜: 0.4273  판별자-가짜: 0.3869\n",
            "에포크 005 | 시간 1647760245.362148 min | 평균 손실 >>생성자/판별자 2.1797/0.8112 [판별자-진짜: 0.4368  판별자-가짜: 0.3743\n",
            "에포크 006 | 시간 1647760276.389664 min | 평균 손실 >>생성자/판별자 1.8297/0.8763 [판별자-진짜: 0.4842  판별자-가짜: 0.3921\n",
            "에포크 007 | 시간 1647760317.922786 min | 평균 손실 >>생성자/판별자 1.6595/0.9589 [판별자-진짜: 0.5147  판별자-가짜: 0.4442\n",
            "에포크 008 | 시간 1647760344.221721 min | 평균 손실 >>생성자/판별자 1.5205/0.9992 [판별자-진짜: 0.5434  판별자-가짜: 0.4558\n",
            "에포크 009 | 시간 1647760370.247277 min | 평균 손실 >>생성자/판별자 1.2897/1.0972 [판별자-진짜: 0.5859  판별자-가짜: 0.5112\n",
            "에포크 010 | 시간 1647760397.077502 min | 평균 손실 >>생성자/판별자 1.4369/1.0186 [판별자-진짜: 0.5523  판별자-가짜: 0.4663\n",
            "에포크 011 | 시간 1647760478.987165 min | 평균 손실 >>생성자/판별자 1.3836/1.1114 [판별자-진짜: 0.5778  판별자-가짜: 0.5336\n",
            "에포크 012 | 시간 1647760524.807068 min | 평균 손실 >>생성자/판별자 1.2731/1.1212 [판별자-진짜: 0.5894  판별자-가짜: 0.5318\n",
            "에포크 013 | 시간 1647760566.794742 min | 평균 손실 >>생성자/판별자 1.2037/1.1580 [판별자-진짜: 0.6027  판별자-가짜: 0.5553\n",
            "에포크 014 | 시간 1647760600.439921 min | 평균 손실 >>생성자/판별자 1.2893/1.1242 [판별자-진짜: 0.5852  판별자-가짜: 0.5390\n",
            "에포크 015 | 시간 1647760638.817755 min | 평균 손실 >>생성자/판별자 1.1648/1.1497 [판별자-진짜: 0.6003  판별자-가짜: 0.5494\n",
            "에포크 016 | 시간 1647760674.745121 min | 평균 손실 >>생성자/판별자 1.1923/1.1563 [판별자-진짜: 0.5999  판별자-가짜: 0.5564\n",
            "에포크 017 | 시간 1647760706.681839 min | 평균 손실 >>생성자/판별자 1.2569/1.1547 [판별자-진짜: 0.5957  판별자-가짜: 0.5590\n",
            "에포크 018 | 시간 1647760747.628559 min | 평균 손실 >>생성자/판별자 1.1450/1.1989 [판별자-진짜: 0.6118  판별자-가짜: 0.5871\n",
            "에포크 019 | 시간 1647760790.590677 min | 평균 손실 >>생성자/판별자 1.1286/1.2024 [판별자-진짜: 0.6163  판별자-가짜: 0.5861\n",
            "에포크 020 | 시간 1647760819.521518 min | 평균 손실 >>생성자/판별자 1.1460/1.1932 [판별자-진짜: 0.6119  판별자-가짜: 0.5814\n",
            "에포크 021 | 시간 1647760849.116832 min | 평균 손실 >>생성자/판별자 1.1322/1.1912 [판별자-진짜: 0.6077  판별자-가짜: 0.5835\n",
            "에포크 022 | 시간 1647760880.886664 min | 평균 손실 >>생성자/판별자 1.0633/1.2286 [판별자-진짜: 0.6254  판별자-가짜: 0.6032\n",
            "에포크 023 | 시간 1647760919.979599 min | 평균 손실 >>생성자/판별자 1.0631/1.2404 [판별자-진짜: 0.6311  판별자-가짜: 0.6093\n",
            "에포크 024 | 시간 1647760948.905157 min | 평균 손실 >>생성자/판별자 1.1040/1.2205 [판별자-진짜: 0.6195  판별자-가짜: 0.6010\n",
            "에포크 025 | 시간 1647760975.299109 min | 평균 손실 >>생성자/판별자 1.0365/1.2219 [판별자-진짜: 0.6275  판별자-가짜: 0.5944\n",
            "에포크 026 | 시간 1647761009.324193 min | 평균 손실 >>생성자/판별자 1.0302/1.2315 [판별자-진짜: 0.6259  판별자-가짜: 0.6056\n",
            "에포크 027 | 시간 1647761039.517801 min | 평균 손실 >>생성자/판별자 1.0629/1.2487 [판별자-진짜: 0.6280  판별자-가짜: 0.6207\n",
            "에포크 028 | 시간 1647761069.495741 min | 평균 손실 >>생성자/판별자 1.0245/1.2704 [판별자-진짜: 0.6371  판별자-가짜: 0.6332\n",
            "에포크 029 | 시간 1647761097.760922 min | 평균 손실 >>생성자/판별자 0.9961/1.2821 [판별자-진짜: 0.6443  판별자-가짜: 0.6378\n",
            "에포크 030 | 시간 1647761125.900095 min | 평균 손실 >>생성자/판별자 1.0234/1.2672 [판별자-진짜: 0.6396  판별자-가짜: 0.6276\n",
            "에포크 031 | 시간 1647761151.849681 min | 평균 손실 >>생성자/판별자 1.0329/1.2408 [판별자-진짜: 0.6269  판별자-가짜: 0.6139\n",
            "에포크 032 | 시간 1647761178.534012 min | 평균 손실 >>생성자/판별자 0.9781/1.2542 [판별자-진짜: 0.6359  판별자-가짜: 0.6182\n",
            "에포크 033 | 시간 1647761204.686978 min | 평균 손실 >>생성자/판별자 1.0309/1.2551 [판별자-진짜: 0.6338  판별자-가짜: 0.6213\n",
            "에포크 034 | 시간 1647761230.707383 min | 평균 손실 >>생성자/판별자 0.9860/1.2831 [판별자-진짜: 0.6471  판별자-가짜: 0.6361\n",
            "에포크 035 | 시간 1647761256.440793 min | 평균 손실 >>생성자/판별자 0.9649/1.2843 [판별자-진짜: 0.6464  판별자-가짜: 0.6379\n",
            "에포크 036 | 시간 1647761283.732641 min | 평균 손실 >>생성자/판별자 0.9896/1.2751 [판별자-진짜: 0.6437  판별자-가짜: 0.6314\n",
            "에포크 037 | 시간 1647761309.662993 min | 평균 손실 >>생성자/판별자 1.0189/1.2549 [판별자-진짜: 0.6330  판별자-가짜: 0.6219\n",
            "에포크 038 | 시간 1647761335.315522 min | 평균 손실 >>생성자/판별자 0.9954/1.2590 [판별자-진짜: 0.6359  판별자-가짜: 0.6230\n",
            "에포크 039 | 시간 1647761361.345093 min | 평균 손실 >>생성자/판별자 0.9317/1.2771 [판별자-진짜: 0.6463  판별자-가짜: 0.6308\n",
            "에포크 040 | 시간 1647761387.102241 min | 평균 손실 >>생성자/판별자 0.9908/1.2843 [판별자-진짜: 0.6458  판별자-가짜: 0.6385\n",
            "에포크 041 | 시간 1647761412.643613 min | 평균 손실 >>생성자/판별자 1.0637/1.2555 [판별자-진짜: 0.6280  판별자-가짜: 0.6275\n",
            "에포크 042 | 시간 1647761438.284154 min | 평균 손실 >>생성자/판별자 0.9690/1.2797 [판별자-진짜: 0.6441  판별자-가짜: 0.6356\n",
            "에포크 043 | 시간 1647761463.942882 min | 평균 손실 >>생성자/판별자 0.9104/1.2976 [판별자-진짜: 0.6535  판별자-가짜: 0.6441\n",
            "에포크 044 | 시간 1647761489.650162 min | 평균 손실 >>생성자/판별자 0.9787/1.2983 [판별자-진짜: 0.6510  판별자-가짜: 0.6472\n",
            "에포크 045 | 시간 1647761515.047076 min | 평균 손실 >>생성자/판별자 0.9991/1.2754 [판별자-진짜: 0.6406  판별자-가짜: 0.6348\n",
            "에포크 046 | 시간 1647761540.701403 min | 평균 손실 >>생성자/판별자 0.9465/1.2903 [판별자-진짜: 0.6504  판별자-가짜: 0.6398\n",
            "에포크 047 | 시간 1647761566.061170 min | 평균 손실 >>생성자/판별자 0.9152/1.2967 [판별자-진짜: 0.6550  판별자-가짜: 0.6417\n",
            "에포크 048 | 시간 1647761592.609315 min | 평균 손실 >>생성자/판별자 0.9650/1.2901 [판별자-진짜: 0.6498  판별자-가짜: 0.6403\n",
            "에포크 049 | 시간 1647761618.716974 min | 평균 손실 >>생성자/판별자 0.9682/1.2882 [판별자-진짜: 0.6482  판별자-가짜: 0.6401\n",
            "에포크 050 | 시간 1647761644.367676 min | 평균 손실 >>생성자/판별자 0.9320/1.3024 [판별자-진짜: 0.6549  판별자-가짜: 0.6474\n",
            "에포크 051 | 시간 1647761670.193487 min | 평균 손실 >>생성자/판별자 0.9357/1.2982 [판별자-진짜: 0.6503  판별자-가짜: 0.6479\n",
            "에포크 052 | 시간 1647761695.615735 min | 평균 손실 >>생성자/판별자 0.9603/1.3000 [판별자-진짜: 0.6536  판별자-가짜: 0.6464\n",
            "에포크 053 | 시간 1647761720.956086 min | 평균 손실 >>생성자/판별자 0.9556/1.2881 [판별자-진짜: 0.6469  판별자-가짜: 0.6412\n",
            "에포크 054 | 시간 1647761746.475152 min | 평균 손실 >>생성자/판별자 0.9358/1.2993 [판별자-진짜: 0.6517  판별자-가짜: 0.6476\n",
            "에포크 055 | 시간 1647761772.046212 min | 평균 손실 >>생성자/판별자 0.9332/1.3026 [판별자-진짜: 0.6532  판별자-가짜: 0.6494\n",
            "에포크 056 | 시간 1647761797.614433 min | 평균 손실 >>생성자/판별자 0.9602/1.2982 [판별자-진짜: 0.6509  판별자-가짜: 0.6473\n",
            "에포크 057 | 시간 1647761823.124452 min | 평균 손실 >>생성자/판별자 0.9260/1.3023 [판별자-진짜: 0.6541  판별자-가짜: 0.6482\n",
            "에포크 058 | 시간 1647761848.500722 min | 평균 손실 >>생성자/판별자 0.9611/1.2957 [판별자-진짜: 0.6509  판별자-가짜: 0.6449\n",
            "에포크 059 | 시간 1647761874.505605 min | 평균 손실 >>생성자/판별자 0.9218/1.2993 [판별자-진짜: 0.6537  판별자-가짜: 0.6457\n",
            "에포크 060 | 시간 1647761900.081898 min | 평균 손실 >>생성자/판별자 0.9651/1.2875 [판별자-진짜: 0.6483  판별자-가짜: 0.6393\n",
            "에포크 061 | 시간 1647761925.409099 min | 평균 손실 >>생성자/판별자 0.9421/1.3002 [판별자-진짜: 0.6520  판별자-가짜: 0.6482\n",
            "에포크 062 | 시간 1647761951.038267 min | 평균 손실 >>생성자/판별자 0.9458/1.3082 [판별자-진짜: 0.6540  판별자-가짜: 0.6541\n",
            "에포크 063 | 시간 1647761976.834584 min | 평균 손실 >>생성자/판별자 0.9153/1.3066 [판별자-진짜: 0.6567  판별자-가짜: 0.6499\n",
            "에포크 064 | 시간 1647762002.441617 min | 평균 손실 >>생성자/판별자 0.9706/1.3009 [판별자-진짜: 0.6516  판별자-가짜: 0.6493\n",
            "에포크 065 | 시간 1647762027.923959 min | 평균 손실 >>생성자/판별자 0.9305/1.3036 [판별자-진짜: 0.6537  판별자-가짜: 0.6499\n",
            "에포크 066 | 시간 1647762053.282708 min | 평균 손실 >>생성자/판별자 0.8980/1.3149 [판별자-진짜: 0.6600  판별자-가짜: 0.6549\n",
            "에포크 067 | 시간 1647762078.480647 min | 평균 손실 >>생성자/판별자 0.9599/1.3097 [판별자-진짜: 0.6547  판별자-가짜: 0.6550\n",
            "에포크 068 | 시간 1647762103.753022 min | 평균 손실 >>생성자/판별자 0.9158/1.3111 [판별자-진짜: 0.6583  판별자-가짜: 0.6529\n",
            "에포크 069 | 시간 1647762144.699633 min | 평균 손실 >>생성자/판별자 0.9407/1.3052 [판별자-진짜: 0.6551  판별자-가짜: 0.6501\n",
            "에포크 070 | 시간 1647762170.093287 min | 평균 손실 >>생성자/판별자 0.9168/1.3123 [판별자-진짜: 0.6579  판별자-가짜: 0.6543\n",
            "에포크 071 | 시간 1647762195.456025 min | 평균 손실 >>생성자/판별자 0.9256/1.3036 [판별자-진짜: 0.6538  판별자-가짜: 0.6498\n",
            "에포크 072 | 시간 1647762220.761568 min | 평균 손실 >>생성자/판별자 0.9103/1.3208 [판별자-진짜: 0.6632  판별자-가짜: 0.6576\n",
            "에포크 073 | 시간 1647762245.949639 min | 평균 손실 >>생성자/판별자 0.9607/1.3059 [판별자-진짜: 0.6543  판별자-가짜: 0.6516\n",
            "에포크 074 | 시간 1647762271.233799 min | 평균 손실 >>생성자/판별자 0.9124/1.3075 [판별자-진짜: 0.6550  판별자-가짜: 0.6525\n",
            "에포크 075 | 시간 1647762296.839296 min | 평균 손실 >>생성자/판별자 0.9088/1.3115 [판별자-진짜: 0.6583  판별자-가짜: 0.6532\n",
            "에포크 076 | 시간 1647762322.196031 min | 평균 손실 >>생성자/판별자 0.9543/1.3090 [판별자-진짜: 0.6557  판별자-가짜: 0.6534\n",
            "에포크 077 | 시간 1647762347.573186 min | 평균 손실 >>생성자/판별자 0.8942/1.3192 [판별자-진짜: 0.6634  판별자-가짜: 0.6558\n",
            "에포크 078 | 시간 1647762372.720710 min | 평균 손실 >>생성자/판별자 0.9017/1.3228 [판별자-진짜: 0.6629  판별자-가짜: 0.6598\n",
            "에포크 079 | 시간 1647762397.953610 min | 평균 손실 >>생성자/판별자 0.9048/1.3237 [판별자-진짜: 0.6635  판별자-가짜: 0.6603\n",
            "에포크 080 | 시간 1647762423.535278 min | 평균 손실 >>생성자/판별자 0.9323/1.3091 [판별자-진짜: 0.6546  판별자-가짜: 0.6545\n",
            "에포크 081 | 시간 1647762448.478836 min | 평균 손실 >>생성자/판별자 0.9064/1.3143 [판별자-진짜: 0.6586  판별자-가짜: 0.6557\n",
            "에포크 082 | 시간 1647762474.830606 min | 평균 손실 >>생성자/판별자 0.9188/1.3153 [판별자-진짜: 0.6575  판별자-가짜: 0.6578\n",
            "에포크 083 | 시간 1647762500.243601 min | 평균 손실 >>생성자/판별자 0.9467/1.3021 [판별자-진짜: 0.6517  판별자-가짜: 0.6504\n",
            "에포크 084 | 시간 1647762525.466001 min | 평균 손실 >>생성자/판별자 0.9093/1.3145 [판별자-진짜: 0.6610  판별자-가짜: 0.6535\n",
            "에포크 085 | 시간 1647762550.550035 min | 평균 손실 >>생성자/판별자 0.8983/1.3214 [판별자-진짜: 0.6655  판별자-가짜: 0.6559\n",
            "에포크 086 | 시간 1647762575.964913 min | 평균 손실 >>생성자/판별자 0.9401/1.3208 [판별자-진짜: 0.6585  판별자-가짜: 0.6624\n",
            "에포크 087 | 시간 1647762601.383599 min | 평균 손실 >>생성자/판별자 0.9331/1.3029 [판별자-진짜: 0.6528  판별자-가짜: 0.6501\n",
            "에포크 088 | 시간 1647762626.644346 min | 평균 손실 >>생성자/판별자 0.8586/1.3307 [판별자-진짜: 0.6692  판별자-가짜: 0.6615\n",
            "에포크 089 | 시간 1647762651.691553 min | 평균 손실 >>생성자/판별자 0.9663/1.3179 [판별자-진짜: 0.6577  판별자-가짜: 0.6602\n",
            "에포크 090 | 시간 1647762676.797047 min | 평균 손실 >>생성자/판별자 0.9320/1.3049 [판별자-진짜: 0.6555  판별자-가짜: 0.6494\n",
            "에포크 091 | 시간 1647762702.286560 min | 평균 손실 >>생성자/판별자 0.9178/1.3155 [판별자-진짜: 0.6590  판별자-가짜: 0.6565\n",
            "에포크 092 | 시간 1647762727.495192 min | 평균 손실 >>생성자/판별자 0.8932/1.3185 [판별자-진짜: 0.6633  판별자-가짜: 0.6551\n",
            "에포크 093 | 시간 1647762768.441401 min | 평균 손실 >>생성자/판별자 0.9045/1.3243 [판별자-진짜: 0.6649  판별자-가짜: 0.6593\n",
            "에포크 094 | 시간 1647762794.482690 min | 평균 손실 >>생성자/판별자 0.9310/1.3173 [판별자-진짜: 0.6590  판별자-가짜: 0.6583\n",
            "에포크 095 | 시간 1647762820.163091 min | 평균 손실 >>생성자/판별자 0.8866/1.3203 [판별자-진짜: 0.6640  판별자-가짜: 0.6563\n",
            "에포크 096 | 시간 1647762845.526231 min | 평균 손실 >>생성자/판별자 0.9554/1.3135 [판별자-진짜: 0.6581  판별자-가짜: 0.6554\n",
            "에포크 097 | 시간 1647762870.963578 min | 평균 손실 >>생성자/판별자 0.9188/1.3094 [판별자-진짜: 0.6575  판별자-가짜: 0.6519\n",
            "에포크 098 | 시간 1647762896.342688 min | 평균 손실 >>생성자/판별자 0.9006/1.3207 [판별자-진짜: 0.6623  판별자-가짜: 0.6584\n",
            "에포크 099 | 시간 1647762922.059490 min | 평균 손실 >>생성자/판별자 0.9398/1.3102 [판별자-진짜: 0.6552  판별자-가짜: 0.6550\n",
            "에포크 100 | 시간 1647762947.493859 min | 평균 손실 >>생성자/판별자 0.8957/1.3146 [판별자-진짜: 0.6601  판별자-가짜: 0.6545\n"
          ]
        }
      ]
    },
    {
      "cell_type": "code",
      "source": [
        "import itertools\n",
        "fig = plt.figure(figsize=(16, 6))\n",
        "# 손실 그래프\n",
        "ax = fig.add_subplot(1, 2, 1)\n",
        "g_losses = [item[0] for item in itertools.chain(*all_losses)]\n",
        "d_losses = [item[1]/2 for item in itertools.chain(*all_losses)]\n",
        "\n",
        "plt.plot(g_losses, label='Generator loss', alpha=0.95)\n",
        "plt.plot(d_losses, label='Discriminator loss', alpha=0.95)\n",
        "plt.legend(fontsize=20)\n",
        "\n",
        "ax.set_xlabel('Iteration', size=15)\n",
        "ax.set_ylabel('Loss', size=15)\n",
        "\n",
        "epochs = np.arange(1, 101)\n",
        "epoch2iter = lambda e: e*len(all_losses[-1])\n",
        "epoch_ticks = [1, 20, 40, 60, 80, 100]\n",
        "newpos = [epoch2iter(e) for e in epoch_ticks]\n",
        "\n",
        "ax2 = ax.twiny()\n",
        "ax2.set_xticks(newpos)\n",
        "ax2.set_xticklabels(epoch_ticks)\n",
        "ax2.xaxis.set_ticks_position('bottom')\n",
        "ax2.xaxis.set_label_position('bottom')\n",
        "ax2.spines['bottom'].set_position(('outward', 60))\n",
        "ax2.set_xlabel('Epoch', size=15)\n",
        "ax2.set_xlim(ax.get_xlim())\n",
        "ax.tick_params(axis='both', which='major', labelsize=15)\n",
        "ax2.tick_params(axis='both', which='major', labelsize=15)\n",
        "\n",
        "# 판별자 출력\n",
        "ax = fig.add_subplot(1, 2, 2)\n",
        "d_vals_real = [item[0] for item in itertools.chain(*all_d_vals)]\n",
        "d_vals_fake = [item[1] for item in itertools.chain(*all_d_vals)]\n",
        "\n",
        "plt.plot(d_vals_real, alpha=0.75, label=r'Real: $D(\\mathbf{x})$')\n",
        "plt.plot(d_vals_fake, alpha=0.75, label=r'Fake: $D(G(\\mathbf{z}))$')\n",
        "plt.legend(fontsize=20)\n",
        "\n",
        "ax.set_xlabel('Iteration', size=15)\n",
        "ax.set_ylabel('Discriminator output', size=15)\n",
        "\n",
        "ax2 = ax.twiny()\n",
        "ax2.set_xticks(newpos)\n",
        "ax2.set_xticklabels(epoch_ticks)\n",
        "ax2.xaxis.set_ticks_position('bottom')\n",
        "ax2.xaxis.set_label_position('bottom')\n",
        "ax2.spines['bottom'].set_position(('outward', 60))\n",
        "ax2.set_xlabel('Epoch', size=15)\n",
        "ax2.set_xlim(ax.get_xlim())\n",
        "ax.tick_params(axis='both', which='major', labelsize=15)\n",
        "ax2.tick_params(axis='both', which='major', labelsize=15)\n",
        "\n",
        "\n",
        "plt.show()"
      ],
      "metadata": {
        "colab": {
          "base_uri": "https://localhost:8080/",
          "height": 342
        },
        "id": "dLxy77yLr74B",
        "outputId": "5816ff4b-356c-4615-dd53-a5788b4f6d65"
      },
      "execution_count": null,
      "outputs": [
        {
          "output_type": "display_data",
          "data": {
            "text/plain": [
              "<Figure size 1152x432 with 4 Axes>"
            ],
            "image/png": "[encoded data removed]"
          },
          "metadata": {
            "needs_background": "light"
          }
        }
      ]
    },
    {
      "cell_type": "markdown",
      "source": [
        "훈련이 진행되면서 생성자가 더 진짜같은 이미지를 합성   \n",
        "진짜와 가짜 샘플에 대한 확률이 모두 0.5에 가까워짐"
      ],
      "metadata": {
        "id": "M_jRAAQE-R6N"
      }
    },
    {
      "cell_type": "markdown",
      "source": [
        "#### 훈련동안 합성된 이미지의 변화"
      ],
      "metadata": {
        "id": "BPY8Z5rY3IAj"
      }
    },
    {
      "cell_type": "code",
      "source": [
        "selected_epochs = [1, 2, 4, 10, 50, 100]\n",
        "fig = plt.figure(figsize=(10, 14))\n",
        "for i,e in enumerate(selected_epochs):\n",
        "    for j in range(5):\n",
        "        ax = fig.add_subplot(6, 5, i*5+j+1)\n",
        "        ax.set_xticks([])\n",
        "        ax.set_yticks([])\n",
        "        if j == 0:\n",
        "            ax.text(\n",
        "                -0.06, 0.5, 'Epoch {}'.format(e),\n",
        "                rotation=90, size=18, color='red',\n",
        "                horizontalalignment='right',\n",
        "                verticalalignment='center', \n",
        "                transform=ax.transAxes)\n",
        "        \n",
        "        image = epoch_samples[e-1][j]\n",
        "        ax.imshow(image, cmap='gray_r')\n",
        "\n",
        "plt.show()"
      ],
      "metadata": {
        "colab": {
          "base_uri": "https://localhost:8080/",
          "height": 783
        },
        "id": "a_vyJoFg28vf",
        "outputId": "02b93fc4-0d96-4cdb-9308-69c8bd519940"
      },
      "execution_count": null,
      "outputs": [
        {
          "output_type": "display_data",
          "data": {
            "text/plain": [
              "<Figure size 720x1008 with 30 Axes>"
            ],
            "image/png": "[encoded data removed]"
          },
          "metadata": {}
        }
      ]
    }
  ]
}